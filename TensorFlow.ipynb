{
  "nbformat": 4,
  "nbformat_minor": 0,
  "metadata": {
    "colab": {
      "name": "TensorFlow.ipynb",
      "provenance": [],
      "collapsed_sections": []
    },
    "kernelspec": {
      "name": "python3",
      "display_name": "Python 3"
    }
  },
  "cells": [
    {
      "cell_type": "markdown",
      "metadata": {
        "id": "l8CGCXTFeXgd"
      },
      "source": [
        "## TensorFlow로 알아보는 딥러닝"
      ]
    },
    {
      "cell_type": "code",
      "metadata": {
        "id": "KcTZICaRc8dU"
      },
      "source": [
        "import tensorflow as tf\r\n",
        "import pandas as pd"
      ],
      "execution_count": null,
      "outputs": []
    },
    {
      "cell_type": "code",
      "metadata": {
        "colab": {
          "base_uri": "https://localhost:8080/",
          "height": 204
        },
        "id": "vmue13KgfoR3",
        "outputId": "dd97c565-602a-4c48-94e5-f389df01aa28"
      },
      "source": [
        "data = {\r\n",
        "    '창업연차' : [4, 5, 6, 7, 8],\r\n",
        "    '매출액(억)' : [8, 10, 12, 14, 16]\r\n",
        "}\r\n",
        "\r\n",
        "df = pd.DataFrame(data)\r\n",
        "df"
      ],
      "execution_count": null,
      "outputs": [
        {
          "output_type": "execute_result",
          "data": {
            "text/html": [
              "<div>\n",
              "<style scoped>\n",
              "    .dataframe tbody tr th:only-of-type {\n",
              "        vertical-align: middle;\n",
              "    }\n",
              "\n",
              "    .dataframe tbody tr th {\n",
              "        vertical-align: top;\n",
              "    }\n",
              "\n",
              "    .dataframe thead th {\n",
              "        text-align: right;\n",
              "    }\n",
              "</style>\n",
              "<table border=\"1\" class=\"dataframe\">\n",
              "  <thead>\n",
              "    <tr style=\"text-align: right;\">\n",
              "      <th></th>\n",
              "      <th>창업연차</th>\n",
              "      <th>매출액(억)</th>\n",
              "    </tr>\n",
              "  </thead>\n",
              "  <tbody>\n",
              "    <tr>\n",
              "      <th>0</th>\n",
              "      <td>4</td>\n",
              "      <td>8</td>\n",
              "    </tr>\n",
              "    <tr>\n",
              "      <th>1</th>\n",
              "      <td>5</td>\n",
              "      <td>10</td>\n",
              "    </tr>\n",
              "    <tr>\n",
              "      <th>2</th>\n",
              "      <td>6</td>\n",
              "      <td>12</td>\n",
              "    </tr>\n",
              "    <tr>\n",
              "      <th>3</th>\n",
              "      <td>7</td>\n",
              "      <td>14</td>\n",
              "    </tr>\n",
              "    <tr>\n",
              "      <th>4</th>\n",
              "      <td>8</td>\n",
              "      <td>16</td>\n",
              "    </tr>\n",
              "  </tbody>\n",
              "</table>\n",
              "</div>"
            ],
            "text/plain": [
              "   창업연차  매출액(억)\n",
              "0     4       8\n",
              "1     5      10\n",
              "2     6      12\n",
              "3     7      14\n",
              "4     8      16"
            ]
          },
          "metadata": {
            "tags": []
          },
          "execution_count": 2
        }
      ]
    },
    {
      "cell_type": "code",
      "metadata": {
        "colab": {
          "base_uri": "https://localhost:8080/"
        },
        "id": "2yRQIJoThUcT",
        "outputId": "9003319d-1612-4ec6-c34c-c3947292583f"
      },
      "source": [
        "독립 = df[['창업연차']] # 원인\r\n",
        "종속 = df[['매출액(억)']] # 결과\r\n",
        "\r\n",
        "독립.shape, 종속.shape"
      ],
      "execution_count": null,
      "outputs": [
        {
          "output_type": "execute_result",
          "data": {
            "text/plain": [
              "((5, 1), (5, 1))"
            ]
          },
          "metadata": {
            "tags": []
          },
          "execution_count": 6
        }
      ]
    },
    {
      "cell_type": "code",
      "metadata": {
        "id": "Ke1m1vV-iUD7"
      },
      "source": [
        "## 모델 준비\r\n",
        "## 신경망 -> y = wx + b\r\n",
        "X = tf.keras.layers.Input(shape=[1]) # 독립변수의 col\r\n",
        "Y = tf.keras.layers.Dense(1)(X) # 종속변수의 col\r\n",
        "model = tf.keras.models.Model(X, Y)\r\n",
        "model.compile(loss='mse') \r\n",
        "#MSE(mean squared error) : 회귀 용도의 딥러닝 모델을 훈련시킬 때 사용되는 손실 함수"
      ],
      "execution_count": null,
      "outputs": []
    },
    {
      "cell_type": "code",
      "metadata": {
        "colab": {
          "base_uri": "https://localhost:8080/"
        },
        "id": "v5JobXghjfgw",
        "outputId": "0ce1d6be-8d29-47fb-d626-3c615b91c0c1"
      },
      "source": [
        "model.fit(독립, 종속, epochs=10)"
      ],
      "execution_count": null,
      "outputs": [
        {
          "output_type": "stream",
          "text": [
            "Epoch 1/10\n",
            "1/1 [==============================] - 0s 488ms/step - loss: 436.5558\n",
            "Epoch 2/10\n",
            "1/1 [==============================] - 0s 3ms/step - loss: 435.6130\n",
            "Epoch 3/10\n",
            "1/1 [==============================] - 0s 5ms/step - loss: 434.9302\n",
            "Epoch 4/10\n",
            "1/1 [==============================] - 0s 4ms/step - loss: 434.3589\n",
            "Epoch 5/10\n",
            "1/1 [==============================] - 0s 4ms/step - loss: 433.8522\n",
            "Epoch 6/10\n",
            "1/1 [==============================] - 0s 4ms/step - loss: 433.3883\n",
            "Epoch 7/10\n",
            "1/1 [==============================] - 0s 4ms/step - loss: 432.9549\n",
            "Epoch 8/10\n",
            "1/1 [==============================] - 0s 4ms/step - loss: 432.5444\n",
            "Epoch 9/10\n",
            "1/1 [==============================] - 0s 4ms/step - loss: 432.1517\n",
            "Epoch 10/10\n",
            "1/1 [==============================] - 0s 4ms/step - loss: 431.7733\n"
          ],
          "name": "stdout"
        },
        {
          "output_type": "execute_result",
          "data": {
            "text/plain": [
              "<tensorflow.python.keras.callbacks.History at 0x7f79d18d6160>"
            ]
          },
          "metadata": {
            "tags": []
          },
          "execution_count": 8
        }
      ]
    },
    {
      "cell_type": "code",
      "metadata": {
        "colab": {
          "base_uri": "https://localhost:8080/"
        },
        "id": "QKd07VjBj60B",
        "outputId": "3be074bd-03b3-4889-9e9b-d3dd45c0908d"
      },
      "source": [
        "model.predict([10])"
      ],
      "execution_count": null,
      "outputs": [
        {
          "output_type": "execute_result",
          "data": {
            "text/plain": [
              "array([[-13.703943]], dtype=float32)"
            ]
          },
          "metadata": {
            "tags": []
          },
          "execution_count": 9
        }
      ]
    },
    {
      "cell_type": "code",
      "metadata": {
        "colab": {
          "base_uri": "https://localhost:8080/"
        },
        "id": "dU4kvKPBkB2W",
        "outputId": "afaf1a26-a7b6-4d2f-af13-8593188fe4ba"
      },
      "source": [
        "model.predict(독립)"
      ],
      "execution_count": null,
      "outputs": [
        {
          "output_type": "execute_result",
          "data": {
            "text/plain": [
              "array([[ -5.4711885],\n",
              "       [ -6.843314 ],\n",
              "       [ -8.215441 ],\n",
              "       [ -9.587566 ],\n",
              "       [-10.959692 ]], dtype=float32)"
            ]
          },
          "metadata": {
            "tags": []
          },
          "execution_count": 10
        }
      ]
    },
    {
      "cell_type": "code",
      "metadata": {
        "colab": {
          "base_uri": "https://localhost:8080/"
        },
        "id": "4wJ-7k4ikM6e",
        "outputId": "a1c57c74-88dc-4215-bdba-bad8f2bfe024"
      },
      "source": [
        "#y = wx + b\r\n",
        "\r\n",
        "model.get_weights()"
      ],
      "execution_count": null,
      "outputs": [
        {
          "output_type": "execute_result",
          "data": {
            "text/plain": [
              "[array([[-1.3721259]], dtype=float32), array([0.01731501], dtype=float32)]"
            ]
          },
          "metadata": {
            "tags": []
          },
          "execution_count": 12
        }
      ]
    },
    {
      "cell_type": "code",
      "metadata": {
        "colab": {
          "base_uri": "https://localhost:8080/"
        },
        "id": "K-x9PI8vkaPq",
        "outputId": "7d6cb09f-5687-4e0d-bd80-081a5c4eb159"
      },
      "source": [
        "-1.3721259 * 10 + 0.01731501"
      ],
      "execution_count": null,
      "outputs": [
        {
          "output_type": "execute_result",
          "data": {
            "text/plain": [
              "-13.703943989999999"
            ]
          },
          "metadata": {
            "tags": []
          },
          "execution_count": 13
        }
      ]
    },
    {
      "cell_type": "code",
      "metadata": {
        "colab": {
          "base_uri": "https://localhost:8080/"
        },
        "id": "oy1VwikAk0qo",
        "outputId": "d832dfb4-8856-4fff-ac8f-b4c9a12f2e0c"
      },
      "source": [
        "model.fit(독립, 종속, epochs=10000, verbose=0)\r\n",
        "model.fit(독립, 종속, epochs=10)"
      ],
      "execution_count": null,
      "outputs": [
        {
          "output_type": "stream",
          "text": [
            "Epoch 1/10\n",
            "1/1 [==============================] - 0s 4ms/step - loss: 1.2750e-05\n",
            "Epoch 2/10\n",
            "1/1 [==============================] - 0s 4ms/step - loss: 1.2749e-05\n",
            "Epoch 3/10\n",
            "1/1 [==============================] - 0s 5ms/step - loss: 1.2750e-05\n",
            "Epoch 4/10\n",
            "1/1 [==============================] - 0s 5ms/step - loss: 1.2749e-05\n",
            "Epoch 5/10\n",
            "1/1 [==============================] - 0s 5ms/step - loss: 1.2750e-05\n",
            "Epoch 6/10\n",
            "1/1 [==============================] - 0s 5ms/step - loss: 1.2749e-05\n",
            "Epoch 7/10\n",
            "1/1 [==============================] - 0s 5ms/step - loss: 1.2750e-05\n",
            "Epoch 8/10\n",
            "1/1 [==============================] - 0s 5ms/step - loss: 1.2749e-05\n",
            "Epoch 9/10\n",
            "1/1 [==============================] - 0s 4ms/step - loss: 1.2750e-05\n",
            "Epoch 10/10\n",
            "1/1 [==============================] - 0s 5ms/step - loss: 1.2749e-05\n"
          ],
          "name": "stdout"
        },
        {
          "output_type": "execute_result",
          "data": {
            "text/plain": [
              "<tensorflow.python.keras.callbacks.History at 0x7f79ce180240>"
            ]
          },
          "metadata": {
            "tags": []
          },
          "execution_count": 14
        }
      ]
    },
    {
      "cell_type": "code",
      "metadata": {
        "colab": {
          "base_uri": "https://localhost:8080/"
        },
        "id": "211Aadd-lQZl",
        "outputId": "eae2cda5-bf13-4cee-c13f-670ef39c2224"
      },
      "source": [
        "model.predict([10])"
      ],
      "execution_count": null,
      "outputs": [
        {
          "output_type": "execute_result",
          "data": {
            "text/plain": [
              "array([[19.994501]], dtype=float32)"
            ]
          },
          "metadata": {
            "tags": []
          },
          "execution_count": 15
        }
      ]
    },
    {
      "cell_type": "code",
      "metadata": {
        "colab": {
          "base_uri": "https://localhost:8080/"
        },
        "id": "Ku6aLT8flT7j",
        "outputId": "3cb7f55d-6c00-4db4-fcca-c5731dfcb3ec"
      },
      "source": [
        "model.predict(독립)"
      ],
      "execution_count": null,
      "outputs": [
        {
          "output_type": "execute_result",
          "data": {
            "text/plain": [
              "array([[ 7.9975004],\n",
              "       [ 9.997001 ],\n",
              "       [11.9965   ],\n",
              "       [13.995999 ],\n",
              "       [15.9955   ]], dtype=float32)"
            ]
          },
          "metadata": {
            "tags": []
          },
          "execution_count": 16
        }
      ]
    },
    {
      "cell_type": "code",
      "metadata": {
        "colab": {
          "base_uri": "https://localhost:8080/"
        },
        "id": "yLGrDsXnlclu",
        "outputId": "3f271e29-bbdf-4dc4-9b56-c87c10d52d25"
      },
      "source": [
        "#y = wx + b\r\n",
        "\r\n",
        "model.get_weights()"
      ],
      "execution_count": null,
      "outputs": [
        {
          "output_type": "execute_result",
          "data": {
            "text/plain": [
              "[array([[1.9994998]], dtype=float32), array([-0.00049862], dtype=float32)]"
            ]
          },
          "metadata": {
            "tags": []
          },
          "execution_count": 17
        }
      ]
    },
    {
      "cell_type": "code",
      "metadata": {
        "colab": {
          "base_uri": "https://localhost:8080/"
        },
        "id": "IH1GpfHRlfuj",
        "outputId": "532d3a01-5c67-4eb3-da23-839a49c895c8"
      },
      "source": [
        "1.9994998 * 10 + (-0.00049862)"
      ],
      "execution_count": null,
      "outputs": [
        {
          "output_type": "execute_result",
          "data": {
            "text/plain": [
              "19.99449938"
            ]
          },
          "metadata": {
            "tags": []
          },
          "execution_count": 19
        }
      ]
    },
    {
      "cell_type": "code",
      "metadata": {
        "id": "pQwULagqLDwN"
      },
      "source": [
        "import tensorflow as tf\r\n",
        "import pandas as pd"
      ],
      "execution_count": 1,
      "outputs": []
    },
    {
      "cell_type": "code",
      "metadata": {
        "id": "09xmRBhRLGDF",
        "colab": {
          "base_uri": "https://localhost:8080/"
        },
        "outputId": "af7a1ad8-612a-44ff-a979-f07d8741379b"
      },
      "source": [
        "from sklearn import datasets\r\n",
        "\r\n",
        "iris = datasets.load_iris()\r\n",
        "iris"
      ],
      "execution_count": 2,
      "outputs": [
        {
          "output_type": "execute_result",
          "data": {
            "text/plain": [
              "{'DESCR': '.. _iris_dataset:\\n\\nIris plants dataset\\n--------------------\\n\\n**Data Set Characteristics:**\\n\\n    :Number of Instances: 150 (50 in each of three classes)\\n    :Number of Attributes: 4 numeric, predictive attributes and the class\\n    :Attribute Information:\\n        - sepal length in cm\\n        - sepal width in cm\\n        - petal length in cm\\n        - petal width in cm\\n        - class:\\n                - Iris-Setosa\\n                - Iris-Versicolour\\n                - Iris-Virginica\\n                \\n    :Summary Statistics:\\n\\n    ============== ==== ==== ======= ===== ====================\\n                    Min  Max   Mean    SD   Class Correlation\\n    ============== ==== ==== ======= ===== ====================\\n    sepal length:   4.3  7.9   5.84   0.83    0.7826\\n    sepal width:    2.0  4.4   3.05   0.43   -0.4194\\n    petal length:   1.0  6.9   3.76   1.76    0.9490  (high!)\\n    petal width:    0.1  2.5   1.20   0.76    0.9565  (high!)\\n    ============== ==== ==== ======= ===== ====================\\n\\n    :Missing Attribute Values: None\\n    :Class Distribution: 33.3% for each of 3 classes.\\n    :Creator: R.A. Fisher\\n    :Donor: Michael Marshall (MARSHALL%PLU@io.arc.nasa.gov)\\n    :Date: July, 1988\\n\\nThe famous Iris database, first used by Sir R.A. Fisher. The dataset is taken\\nfrom Fisher\\'s paper. Note that it\\'s the same as in R, but not as in the UCI\\nMachine Learning Repository, which has two wrong data points.\\n\\nThis is perhaps the best known database to be found in the\\npattern recognition literature.  Fisher\\'s paper is a classic in the field and\\nis referenced frequently to this day.  (See Duda & Hart, for example.)  The\\ndata set contains 3 classes of 50 instances each, where each class refers to a\\ntype of iris plant.  One class is linearly separable from the other 2; the\\nlatter are NOT linearly separable from each other.\\n\\n.. topic:: References\\n\\n   - Fisher, R.A. \"The use of multiple measurements in taxonomic problems\"\\n     Annual Eugenics, 7, Part II, 179-188 (1936); also in \"Contributions to\\n     Mathematical Statistics\" (John Wiley, NY, 1950).\\n   - Duda, R.O., & Hart, P.E. (1973) Pattern Classification and Scene Analysis.\\n     (Q327.D83) John Wiley & Sons.  ISBN 0-471-22361-1.  See page 218.\\n   - Dasarathy, B.V. (1980) \"Nosing Around the Neighborhood: A New System\\n     Structure and Classification Rule for Recognition in Partially Exposed\\n     Environments\".  IEEE Transactions on Pattern Analysis and Machine\\n     Intelligence, Vol. PAMI-2, No. 1, 67-71.\\n   - Gates, G.W. (1972) \"The Reduced Nearest Neighbor Rule\".  IEEE Transactions\\n     on Information Theory, May 1972, 431-433.\\n   - See also: 1988 MLC Proceedings, 54-64.  Cheeseman et al\"s AUTOCLASS II\\n     conceptual clustering system finds 3 classes in the data.\\n   - Many, many more ...',\n",
              " 'data': array([[5.1, 3.5, 1.4, 0.2],\n",
              "        [4.9, 3. , 1.4, 0.2],\n",
              "        [4.7, 3.2, 1.3, 0.2],\n",
              "        [4.6, 3.1, 1.5, 0.2],\n",
              "        [5. , 3.6, 1.4, 0.2],\n",
              "        [5.4, 3.9, 1.7, 0.4],\n",
              "        [4.6, 3.4, 1.4, 0.3],\n",
              "        [5. , 3.4, 1.5, 0.2],\n",
              "        [4.4, 2.9, 1.4, 0.2],\n",
              "        [4.9, 3.1, 1.5, 0.1],\n",
              "        [5.4, 3.7, 1.5, 0.2],\n",
              "        [4.8, 3.4, 1.6, 0.2],\n",
              "        [4.8, 3. , 1.4, 0.1],\n",
              "        [4.3, 3. , 1.1, 0.1],\n",
              "        [5.8, 4. , 1.2, 0.2],\n",
              "        [5.7, 4.4, 1.5, 0.4],\n",
              "        [5.4, 3.9, 1.3, 0.4],\n",
              "        [5.1, 3.5, 1.4, 0.3],\n",
              "        [5.7, 3.8, 1.7, 0.3],\n",
              "        [5.1, 3.8, 1.5, 0.3],\n",
              "        [5.4, 3.4, 1.7, 0.2],\n",
              "        [5.1, 3.7, 1.5, 0.4],\n",
              "        [4.6, 3.6, 1. , 0.2],\n",
              "        [5.1, 3.3, 1.7, 0.5],\n",
              "        [4.8, 3.4, 1.9, 0.2],\n",
              "        [5. , 3. , 1.6, 0.2],\n",
              "        [5. , 3.4, 1.6, 0.4],\n",
              "        [5.2, 3.5, 1.5, 0.2],\n",
              "        [5.2, 3.4, 1.4, 0.2],\n",
              "        [4.7, 3.2, 1.6, 0.2],\n",
              "        [4.8, 3.1, 1.6, 0.2],\n",
              "        [5.4, 3.4, 1.5, 0.4],\n",
              "        [5.2, 4.1, 1.5, 0.1],\n",
              "        [5.5, 4.2, 1.4, 0.2],\n",
              "        [4.9, 3.1, 1.5, 0.2],\n",
              "        [5. , 3.2, 1.2, 0.2],\n",
              "        [5.5, 3.5, 1.3, 0.2],\n",
              "        [4.9, 3.6, 1.4, 0.1],\n",
              "        [4.4, 3. , 1.3, 0.2],\n",
              "        [5.1, 3.4, 1.5, 0.2],\n",
              "        [5. , 3.5, 1.3, 0.3],\n",
              "        [4.5, 2.3, 1.3, 0.3],\n",
              "        [4.4, 3.2, 1.3, 0.2],\n",
              "        [5. , 3.5, 1.6, 0.6],\n",
              "        [5.1, 3.8, 1.9, 0.4],\n",
              "        [4.8, 3. , 1.4, 0.3],\n",
              "        [5.1, 3.8, 1.6, 0.2],\n",
              "        [4.6, 3.2, 1.4, 0.2],\n",
              "        [5.3, 3.7, 1.5, 0.2],\n",
              "        [5. , 3.3, 1.4, 0.2],\n",
              "        [7. , 3.2, 4.7, 1.4],\n",
              "        [6.4, 3.2, 4.5, 1.5],\n",
              "        [6.9, 3.1, 4.9, 1.5],\n",
              "        [5.5, 2.3, 4. , 1.3],\n",
              "        [6.5, 2.8, 4.6, 1.5],\n",
              "        [5.7, 2.8, 4.5, 1.3],\n",
              "        [6.3, 3.3, 4.7, 1.6],\n",
              "        [4.9, 2.4, 3.3, 1. ],\n",
              "        [6.6, 2.9, 4.6, 1.3],\n",
              "        [5.2, 2.7, 3.9, 1.4],\n",
              "        [5. , 2. , 3.5, 1. ],\n",
              "        [5.9, 3. , 4.2, 1.5],\n",
              "        [6. , 2.2, 4. , 1. ],\n",
              "        [6.1, 2.9, 4.7, 1.4],\n",
              "        [5.6, 2.9, 3.6, 1.3],\n",
              "        [6.7, 3.1, 4.4, 1.4],\n",
              "        [5.6, 3. , 4.5, 1.5],\n",
              "        [5.8, 2.7, 4.1, 1. ],\n",
              "        [6.2, 2.2, 4.5, 1.5],\n",
              "        [5.6, 2.5, 3.9, 1.1],\n",
              "        [5.9, 3.2, 4.8, 1.8],\n",
              "        [6.1, 2.8, 4. , 1.3],\n",
              "        [6.3, 2.5, 4.9, 1.5],\n",
              "        [6.1, 2.8, 4.7, 1.2],\n",
              "        [6.4, 2.9, 4.3, 1.3],\n",
              "        [6.6, 3. , 4.4, 1.4],\n",
              "        [6.8, 2.8, 4.8, 1.4],\n",
              "        [6.7, 3. , 5. , 1.7],\n",
              "        [6. , 2.9, 4.5, 1.5],\n",
              "        [5.7, 2.6, 3.5, 1. ],\n",
              "        [5.5, 2.4, 3.8, 1.1],\n",
              "        [5.5, 2.4, 3.7, 1. ],\n",
              "        [5.8, 2.7, 3.9, 1.2],\n",
              "        [6. , 2.7, 5.1, 1.6],\n",
              "        [5.4, 3. , 4.5, 1.5],\n",
              "        [6. , 3.4, 4.5, 1.6],\n",
              "        [6.7, 3.1, 4.7, 1.5],\n",
              "        [6.3, 2.3, 4.4, 1.3],\n",
              "        [5.6, 3. , 4.1, 1.3],\n",
              "        [5.5, 2.5, 4. , 1.3],\n",
              "        [5.5, 2.6, 4.4, 1.2],\n",
              "        [6.1, 3. , 4.6, 1.4],\n",
              "        [5.8, 2.6, 4. , 1.2],\n",
              "        [5. , 2.3, 3.3, 1. ],\n",
              "        [5.6, 2.7, 4.2, 1.3],\n",
              "        [5.7, 3. , 4.2, 1.2],\n",
              "        [5.7, 2.9, 4.2, 1.3],\n",
              "        [6.2, 2.9, 4.3, 1.3],\n",
              "        [5.1, 2.5, 3. , 1.1],\n",
              "        [5.7, 2.8, 4.1, 1.3],\n",
              "        [6.3, 3.3, 6. , 2.5],\n",
              "        [5.8, 2.7, 5.1, 1.9],\n",
              "        [7.1, 3. , 5.9, 2.1],\n",
              "        [6.3, 2.9, 5.6, 1.8],\n",
              "        [6.5, 3. , 5.8, 2.2],\n",
              "        [7.6, 3. , 6.6, 2.1],\n",
              "        [4.9, 2.5, 4.5, 1.7],\n",
              "        [7.3, 2.9, 6.3, 1.8],\n",
              "        [6.7, 2.5, 5.8, 1.8],\n",
              "        [7.2, 3.6, 6.1, 2.5],\n",
              "        [6.5, 3.2, 5.1, 2. ],\n",
              "        [6.4, 2.7, 5.3, 1.9],\n",
              "        [6.8, 3. , 5.5, 2.1],\n",
              "        [5.7, 2.5, 5. , 2. ],\n",
              "        [5.8, 2.8, 5.1, 2.4],\n",
              "        [6.4, 3.2, 5.3, 2.3],\n",
              "        [6.5, 3. , 5.5, 1.8],\n",
              "        [7.7, 3.8, 6.7, 2.2],\n",
              "        [7.7, 2.6, 6.9, 2.3],\n",
              "        [6. , 2.2, 5. , 1.5],\n",
              "        [6.9, 3.2, 5.7, 2.3],\n",
              "        [5.6, 2.8, 4.9, 2. ],\n",
              "        [7.7, 2.8, 6.7, 2. ],\n",
              "        [6.3, 2.7, 4.9, 1.8],\n",
              "        [6.7, 3.3, 5.7, 2.1],\n",
              "        [7.2, 3.2, 6. , 1.8],\n",
              "        [6.2, 2.8, 4.8, 1.8],\n",
              "        [6.1, 3. , 4.9, 1.8],\n",
              "        [6.4, 2.8, 5.6, 2.1],\n",
              "        [7.2, 3. , 5.8, 1.6],\n",
              "        [7.4, 2.8, 6.1, 1.9],\n",
              "        [7.9, 3.8, 6.4, 2. ],\n",
              "        [6.4, 2.8, 5.6, 2.2],\n",
              "        [6.3, 2.8, 5.1, 1.5],\n",
              "        [6.1, 2.6, 5.6, 1.4],\n",
              "        [7.7, 3. , 6.1, 2.3],\n",
              "        [6.3, 3.4, 5.6, 2.4],\n",
              "        [6.4, 3.1, 5.5, 1.8],\n",
              "        [6. , 3. , 4.8, 1.8],\n",
              "        [6.9, 3.1, 5.4, 2.1],\n",
              "        [6.7, 3.1, 5.6, 2.4],\n",
              "        [6.9, 3.1, 5.1, 2.3],\n",
              "        [5.8, 2.7, 5.1, 1.9],\n",
              "        [6.8, 3.2, 5.9, 2.3],\n",
              "        [6.7, 3.3, 5.7, 2.5],\n",
              "        [6.7, 3. , 5.2, 2.3],\n",
              "        [6.3, 2.5, 5. , 1.9],\n",
              "        [6.5, 3. , 5.2, 2. ],\n",
              "        [6.2, 3.4, 5.4, 2.3],\n",
              "        [5.9, 3. , 5.1, 1.8]]),\n",
              " 'feature_names': ['sepal length (cm)',\n",
              "  'sepal width (cm)',\n",
              "  'petal length (cm)',\n",
              "  'petal width (cm)'],\n",
              " 'filename': '/usr/local/lib/python3.6/dist-packages/sklearn/datasets/data/iris.csv',\n",
              " 'target': array([0, 0, 0, 0, 0, 0, 0, 0, 0, 0, 0, 0, 0, 0, 0, 0, 0, 0, 0, 0, 0, 0,\n",
              "        0, 0, 0, 0, 0, 0, 0, 0, 0, 0, 0, 0, 0, 0, 0, 0, 0, 0, 0, 0, 0, 0,\n",
              "        0, 0, 0, 0, 0, 0, 1, 1, 1, 1, 1, 1, 1, 1, 1, 1, 1, 1, 1, 1, 1, 1,\n",
              "        1, 1, 1, 1, 1, 1, 1, 1, 1, 1, 1, 1, 1, 1, 1, 1, 1, 1, 1, 1, 1, 1,\n",
              "        1, 1, 1, 1, 1, 1, 1, 1, 1, 1, 1, 1, 2, 2, 2, 2, 2, 2, 2, 2, 2, 2,\n",
              "        2, 2, 2, 2, 2, 2, 2, 2, 2, 2, 2, 2, 2, 2, 2, 2, 2, 2, 2, 2, 2, 2,\n",
              "        2, 2, 2, 2, 2, 2, 2, 2, 2, 2, 2, 2, 2, 2, 2, 2, 2, 2]),\n",
              " 'target_names': array(['setosa', 'versicolor', 'virginica'], dtype='<U10')}"
            ]
          },
          "metadata": {
            "tags": []
          },
          "execution_count": 2
        }
      ]
    },
    {
      "cell_type": "code",
      "metadata": {
        "colab": {
          "base_uri": "https://localhost:8080/",
          "height": 204
        },
        "id": "1kjCwVtcMEav",
        "outputId": "e15f477e-ff44-4ccf-df8d-0884cf73cd47"
      },
      "source": [
        "# 생활코딩의 이숙번님께서 가공해주신 코드\r\n",
        "path = 'https://raw.githubusercontent.com/blackdew/tensorflow1/master/csv/iris.csv'\r\n",
        "\r\n",
        "dataset = pd.read_csv(path)\r\n",
        "dataset.head()"
      ],
      "execution_count": 3,
      "outputs": [
        {
          "output_type": "execute_result",
          "data": {
            "text/html": [
              "<div>\n",
              "<style scoped>\n",
              "    .dataframe tbody tr th:only-of-type {\n",
              "        vertical-align: middle;\n",
              "    }\n",
              "\n",
              "    .dataframe tbody tr th {\n",
              "        vertical-align: top;\n",
              "    }\n",
              "\n",
              "    .dataframe thead th {\n",
              "        text-align: right;\n",
              "    }\n",
              "</style>\n",
              "<table border=\"1\" class=\"dataframe\">\n",
              "  <thead>\n",
              "    <tr style=\"text-align: right;\">\n",
              "      <th></th>\n",
              "      <th>꽃잎길이</th>\n",
              "      <th>꽃잎폭</th>\n",
              "      <th>꽃받침길이</th>\n",
              "      <th>꽃받침폭</th>\n",
              "      <th>품종</th>\n",
              "    </tr>\n",
              "  </thead>\n",
              "  <tbody>\n",
              "    <tr>\n",
              "      <th>0</th>\n",
              "      <td>5.1</td>\n",
              "      <td>3.5</td>\n",
              "      <td>1.4</td>\n",
              "      <td>0.2</td>\n",
              "      <td>setosa</td>\n",
              "    </tr>\n",
              "    <tr>\n",
              "      <th>1</th>\n",
              "      <td>4.9</td>\n",
              "      <td>3.0</td>\n",
              "      <td>1.4</td>\n",
              "      <td>0.2</td>\n",
              "      <td>setosa</td>\n",
              "    </tr>\n",
              "    <tr>\n",
              "      <th>2</th>\n",
              "      <td>4.7</td>\n",
              "      <td>3.2</td>\n",
              "      <td>1.3</td>\n",
              "      <td>0.2</td>\n",
              "      <td>setosa</td>\n",
              "    </tr>\n",
              "    <tr>\n",
              "      <th>3</th>\n",
              "      <td>4.6</td>\n",
              "      <td>3.1</td>\n",
              "      <td>1.5</td>\n",
              "      <td>0.2</td>\n",
              "      <td>setosa</td>\n",
              "    </tr>\n",
              "    <tr>\n",
              "      <th>4</th>\n",
              "      <td>5.0</td>\n",
              "      <td>3.6</td>\n",
              "      <td>1.4</td>\n",
              "      <td>0.2</td>\n",
              "      <td>setosa</td>\n",
              "    </tr>\n",
              "  </tbody>\n",
              "</table>\n",
              "</div>"
            ],
            "text/plain": [
              "   꽃잎길이  꽃잎폭  꽃받침길이  꽃받침폭      품종\n",
              "0   5.1  3.5    1.4   0.2  setosa\n",
              "1   4.9  3.0    1.4   0.2  setosa\n",
              "2   4.7  3.2    1.3   0.2  setosa\n",
              "3   4.6  3.1    1.5   0.2  setosa\n",
              "4   5.0  3.6    1.4   0.2  setosa"
            ]
          },
          "metadata": {
            "tags": []
          },
          "execution_count": 3
        }
      ]
    },
    {
      "cell_type": "code",
      "metadata": {
        "colab": {
          "base_uri": "https://localhost:8080/",
          "height": 419
        },
        "id": "DXrJvBygNmbS",
        "outputId": "44383a34-58f2-45a1-c586-8c13b7c715a7"
      },
      "source": [
        "dataset"
      ],
      "execution_count": 4,
      "outputs": [
        {
          "output_type": "execute_result",
          "data": {
            "text/html": [
              "<div>\n",
              "<style scoped>\n",
              "    .dataframe tbody tr th:only-of-type {\n",
              "        vertical-align: middle;\n",
              "    }\n",
              "\n",
              "    .dataframe tbody tr th {\n",
              "        vertical-align: top;\n",
              "    }\n",
              "\n",
              "    .dataframe thead th {\n",
              "        text-align: right;\n",
              "    }\n",
              "</style>\n",
              "<table border=\"1\" class=\"dataframe\">\n",
              "  <thead>\n",
              "    <tr style=\"text-align: right;\">\n",
              "      <th></th>\n",
              "      <th>꽃잎길이</th>\n",
              "      <th>꽃잎폭</th>\n",
              "      <th>꽃받침길이</th>\n",
              "      <th>꽃받침폭</th>\n",
              "      <th>품종</th>\n",
              "    </tr>\n",
              "  </thead>\n",
              "  <tbody>\n",
              "    <tr>\n",
              "      <th>0</th>\n",
              "      <td>5.1</td>\n",
              "      <td>3.5</td>\n",
              "      <td>1.4</td>\n",
              "      <td>0.2</td>\n",
              "      <td>setosa</td>\n",
              "    </tr>\n",
              "    <tr>\n",
              "      <th>1</th>\n",
              "      <td>4.9</td>\n",
              "      <td>3.0</td>\n",
              "      <td>1.4</td>\n",
              "      <td>0.2</td>\n",
              "      <td>setosa</td>\n",
              "    </tr>\n",
              "    <tr>\n",
              "      <th>2</th>\n",
              "      <td>4.7</td>\n",
              "      <td>3.2</td>\n",
              "      <td>1.3</td>\n",
              "      <td>0.2</td>\n",
              "      <td>setosa</td>\n",
              "    </tr>\n",
              "    <tr>\n",
              "      <th>3</th>\n",
              "      <td>4.6</td>\n",
              "      <td>3.1</td>\n",
              "      <td>1.5</td>\n",
              "      <td>0.2</td>\n",
              "      <td>setosa</td>\n",
              "    </tr>\n",
              "    <tr>\n",
              "      <th>4</th>\n",
              "      <td>5.0</td>\n",
              "      <td>3.6</td>\n",
              "      <td>1.4</td>\n",
              "      <td>0.2</td>\n",
              "      <td>setosa</td>\n",
              "    </tr>\n",
              "    <tr>\n",
              "      <th>...</th>\n",
              "      <td>...</td>\n",
              "      <td>...</td>\n",
              "      <td>...</td>\n",
              "      <td>...</td>\n",
              "      <td>...</td>\n",
              "    </tr>\n",
              "    <tr>\n",
              "      <th>145</th>\n",
              "      <td>6.7</td>\n",
              "      <td>3.0</td>\n",
              "      <td>5.2</td>\n",
              "      <td>2.3</td>\n",
              "      <td>virginica</td>\n",
              "    </tr>\n",
              "    <tr>\n",
              "      <th>146</th>\n",
              "      <td>6.3</td>\n",
              "      <td>2.5</td>\n",
              "      <td>5.0</td>\n",
              "      <td>1.9</td>\n",
              "      <td>virginica</td>\n",
              "    </tr>\n",
              "    <tr>\n",
              "      <th>147</th>\n",
              "      <td>6.5</td>\n",
              "      <td>3.0</td>\n",
              "      <td>5.2</td>\n",
              "      <td>2.0</td>\n",
              "      <td>virginica</td>\n",
              "    </tr>\n",
              "    <tr>\n",
              "      <th>148</th>\n",
              "      <td>6.2</td>\n",
              "      <td>3.4</td>\n",
              "      <td>5.4</td>\n",
              "      <td>2.3</td>\n",
              "      <td>virginica</td>\n",
              "    </tr>\n",
              "    <tr>\n",
              "      <th>149</th>\n",
              "      <td>5.9</td>\n",
              "      <td>3.0</td>\n",
              "      <td>5.1</td>\n",
              "      <td>1.8</td>\n",
              "      <td>virginica</td>\n",
              "    </tr>\n",
              "  </tbody>\n",
              "</table>\n",
              "<p>150 rows × 5 columns</p>\n",
              "</div>"
            ],
            "text/plain": [
              "     꽃잎길이  꽃잎폭  꽃받침길이  꽃받침폭         품종\n",
              "0     5.1  3.5    1.4   0.2     setosa\n",
              "1     4.9  3.0    1.4   0.2     setosa\n",
              "2     4.7  3.2    1.3   0.2     setosa\n",
              "3     4.6  3.1    1.5   0.2     setosa\n",
              "4     5.0  3.6    1.4   0.2     setosa\n",
              "..    ...  ...    ...   ...        ...\n",
              "145   6.7  3.0    5.2   2.3  virginica\n",
              "146   6.3  2.5    5.0   1.9  virginica\n",
              "147   6.5  3.0    5.2   2.0  virginica\n",
              "148   6.2  3.4    5.4   2.3  virginica\n",
              "149   5.9  3.0    5.1   1.8  virginica\n",
              "\n",
              "[150 rows x 5 columns]"
            ]
          },
          "metadata": {
            "tags": []
          },
          "execution_count": 4
        }
      ]
    },
    {
      "cell_type": "code",
      "metadata": {
        "colab": {
          "base_uri": "https://localhost:8080/",
          "height": 204
        },
        "id": "2a8KVMrSNuIO",
        "outputId": "6cffdff1-7eb7-4ff9-e8f6-ee3fd6a6c766"
      },
      "source": [
        "encoded = pd.get_dummies(dataset)\r\n",
        "encoded.head()"
      ],
      "execution_count": 5,
      "outputs": [
        {
          "output_type": "execute_result",
          "data": {
            "text/html": [
              "<div>\n",
              "<style scoped>\n",
              "    .dataframe tbody tr th:only-of-type {\n",
              "        vertical-align: middle;\n",
              "    }\n",
              "\n",
              "    .dataframe tbody tr th {\n",
              "        vertical-align: top;\n",
              "    }\n",
              "\n",
              "    .dataframe thead th {\n",
              "        text-align: right;\n",
              "    }\n",
              "</style>\n",
              "<table border=\"1\" class=\"dataframe\">\n",
              "  <thead>\n",
              "    <tr style=\"text-align: right;\">\n",
              "      <th></th>\n",
              "      <th>꽃잎길이</th>\n",
              "      <th>꽃잎폭</th>\n",
              "      <th>꽃받침길이</th>\n",
              "      <th>꽃받침폭</th>\n",
              "      <th>품종_setosa</th>\n",
              "      <th>품종_versicolor</th>\n",
              "      <th>품종_virginica</th>\n",
              "    </tr>\n",
              "  </thead>\n",
              "  <tbody>\n",
              "    <tr>\n",
              "      <th>0</th>\n",
              "      <td>5.1</td>\n",
              "      <td>3.5</td>\n",
              "      <td>1.4</td>\n",
              "      <td>0.2</td>\n",
              "      <td>1</td>\n",
              "      <td>0</td>\n",
              "      <td>0</td>\n",
              "    </tr>\n",
              "    <tr>\n",
              "      <th>1</th>\n",
              "      <td>4.9</td>\n",
              "      <td>3.0</td>\n",
              "      <td>1.4</td>\n",
              "      <td>0.2</td>\n",
              "      <td>1</td>\n",
              "      <td>0</td>\n",
              "      <td>0</td>\n",
              "    </tr>\n",
              "    <tr>\n",
              "      <th>2</th>\n",
              "      <td>4.7</td>\n",
              "      <td>3.2</td>\n",
              "      <td>1.3</td>\n",
              "      <td>0.2</td>\n",
              "      <td>1</td>\n",
              "      <td>0</td>\n",
              "      <td>0</td>\n",
              "    </tr>\n",
              "    <tr>\n",
              "      <th>3</th>\n",
              "      <td>4.6</td>\n",
              "      <td>3.1</td>\n",
              "      <td>1.5</td>\n",
              "      <td>0.2</td>\n",
              "      <td>1</td>\n",
              "      <td>0</td>\n",
              "      <td>0</td>\n",
              "    </tr>\n",
              "    <tr>\n",
              "      <th>4</th>\n",
              "      <td>5.0</td>\n",
              "      <td>3.6</td>\n",
              "      <td>1.4</td>\n",
              "      <td>0.2</td>\n",
              "      <td>1</td>\n",
              "      <td>0</td>\n",
              "      <td>0</td>\n",
              "    </tr>\n",
              "  </tbody>\n",
              "</table>\n",
              "</div>"
            ],
            "text/plain": [
              "   꽃잎길이  꽃잎폭  꽃받침길이  꽃받침폭  품종_setosa  품종_versicolor  품종_virginica\n",
              "0   5.1  3.5    1.4   0.2          1              0             0\n",
              "1   4.9  3.0    1.4   0.2          1              0             0\n",
              "2   4.7  3.2    1.3   0.2          1              0             0\n",
              "3   4.6  3.1    1.5   0.2          1              0             0\n",
              "4   5.0  3.6    1.4   0.2          1              0             0"
            ]
          },
          "metadata": {
            "tags": []
          },
          "execution_count": 5
        }
      ]
    },
    {
      "cell_type": "code",
      "metadata": {
        "colab": {
          "base_uri": "https://localhost:8080/"
        },
        "id": "bGtCLSW7P8Gx",
        "outputId": "a79860fd-1ac5-4d94-826a-e8f0d8b5652c"
      },
      "source": [
        "print(encoded.columns)\r\n",
        "\r\n",
        "독립 = encoded[['꽃잎길이', '꽃잎폭', '꽃받침길이', '꽃받침폭']]\r\n",
        "종속 = encoded[['품종_setosa', '품종_versicolor', '품종_virginica']]\r\n",
        "\r\n",
        "독립.shape, 종속.shape"
      ],
      "execution_count": 6,
      "outputs": [
        {
          "output_type": "stream",
          "text": [
            "Index(['꽃잎길이', '꽃잎폭', '꽃받침길이', '꽃받침폭', '품종_setosa', '품종_versicolor',\n",
            "       '품종_virginica'],\n",
            "      dtype='object')\n"
          ],
          "name": "stdout"
        },
        {
          "output_type": "execute_result",
          "data": {
            "text/plain": [
              "((150, 4), (150, 3))"
            ]
          },
          "metadata": {
            "tags": []
          },
          "execution_count": 6
        }
      ]
    },
    {
      "cell_type": "code",
      "metadata": {
        "id": "F0Jj6go_QTLM"
      },
      "source": [
        "## 모델 준비\r\n",
        "\r\n",
        "X = tf.keras.layers.Input(shape=[4]) # 독립변수의 col\r\n",
        "Y = tf.keras.layers.Dense(3, activation='softmax')(X) # 종속변수의 col\r\n",
        "model = tf.keras.models.Model(X, Y)\r\n",
        "model.compile(loss='categorical_crossentropy', metrics='accuracy')"
      ],
      "execution_count": 7,
      "outputs": []
    },
    {
      "cell_type": "markdown",
      "metadata": {
        "id": "lV8N4_5QRunP"
      },
      "source": [
        "* fit\r\n",
        "* predict"
      ]
    },
    {
      "cell_type": "code",
      "metadata": {
        "colab": {
          "base_uri": "https://localhost:8080/"
        },
        "id": "o0pq7gnPRXVM",
        "outputId": "55565695-6529-4de4-a841-9d31fc6d2ee6"
      },
      "source": [
        "## 모델 학습\r\n",
        "model.fit(독립, 종속, epochs=1000, verbose=0) # epochs는 학습 수\r\n",
        "model.fit(독립, 종속, epochs=10) # epochs는 학습 수"
      ],
      "execution_count": 8,
      "outputs": [
        {
          "output_type": "stream",
          "text": [
            "Epoch 1/10\n",
            "5/5 [==============================] - 0s 2ms/step - loss: 0.1535 - accuracy: 0.9800\n",
            "Epoch 2/10\n",
            "5/5 [==============================] - 0s 2ms/step - loss: 0.1539 - accuracy: 0.9800\n",
            "Epoch 3/10\n",
            "5/5 [==============================] - 0s 2ms/step - loss: 0.1530 - accuracy: 0.9800\n",
            "Epoch 4/10\n",
            "5/5 [==============================] - 0s 2ms/step - loss: 0.1530 - accuracy: 0.9800\n",
            "Epoch 5/10\n",
            "5/5 [==============================] - 0s 1ms/step - loss: 0.1529 - accuracy: 0.9800\n",
            "Epoch 6/10\n",
            "5/5 [==============================] - 0s 2ms/step - loss: 0.1525 - accuracy: 0.9800\n",
            "Epoch 7/10\n",
            "5/5 [==============================] - 0s 2ms/step - loss: 0.1525 - accuracy: 0.9800\n",
            "Epoch 8/10\n",
            "5/5 [==============================] - 0s 2ms/step - loss: 0.1532 - accuracy: 0.9867\n",
            "Epoch 9/10\n",
            "5/5 [==============================] - 0s 2ms/step - loss: 0.1520 - accuracy: 0.9800\n",
            "Epoch 10/10\n",
            "5/5 [==============================] - 0s 2ms/step - loss: 0.1524 - accuracy: 0.9800\n"
          ],
          "name": "stdout"
        },
        {
          "output_type": "execute_result",
          "data": {
            "text/plain": [
              "<tensorflow.python.keras.callbacks.History at 0x7f39971ab7b8>"
            ]
          },
          "metadata": {
            "tags": []
          },
          "execution_count": 8
        }
      ]
    },
    {
      "cell_type": "code",
      "metadata": {
        "colab": {
          "base_uri": "https://localhost:8080/"
        },
        "id": "GvU-e-c6SAPn",
        "outputId": "26bf4d4b-b8a1-4f8b-ecb6-6bf9e2f00efa"
      },
      "source": [
        "model.predict(독립)"
      ],
      "execution_count": 10,
      "outputs": [
        {
          "output_type": "execute_result",
          "data": {
            "text/plain": [
              "array([[9.99176323e-01, 8.23636015e-04, 4.78683795e-08],\n",
              "       [9.95592177e-01, 4.40731505e-03, 5.34042101e-07],\n",
              "       [9.98422742e-01, 1.57718710e-03, 1.70014118e-07],\n",
              "       [9.96045053e-01, 3.95424385e-03, 7.70751853e-07],\n",
              "       [9.99428451e-01, 5.71494049e-04, 3.43467157e-08],\n",
              "       [9.99096751e-01, 9.03157983e-04, 7.58436514e-08],\n",
              "       [9.98650253e-01, 1.34948478e-03, 2.20135902e-07],\n",
              "       [9.98466015e-01, 1.53385277e-03, 1.34099224e-07],\n",
              "       [9.94407535e-01, 5.59101999e-03, 1.41983458e-06],\n",
              "       [9.96733546e-01, 3.26614268e-03, 3.22901116e-07],\n",
              "       [9.99405861e-01, 5.94098703e-04, 2.32966091e-08],\n",
              "       [9.98017669e-01, 1.98204559e-03, 2.69553539e-07],\n",
              "       [9.96652782e-01, 3.34689580e-03, 3.44479588e-07],\n",
              "       [9.98769104e-01, 1.23071496e-03, 1.38943378e-07],\n",
              "       [9.99906182e-01, 9.37926670e-05, 9.49798684e-10],\n",
              "       [9.99905467e-01, 9.45291249e-05, 2.31637198e-09],\n",
              "       [9.99726713e-01, 2.73278914e-04, 1.09920428e-08],\n",
              "       [9.98937070e-01, 1.06281950e-03, 8.27251512e-08],\n",
              "       [9.98947918e-01, 1.05205167e-03, 4.92947265e-08],\n",
              "       [9.99490023e-01, 5.09985664e-04, 3.58414027e-08],\n",
              "       [9.96969283e-01, 3.03049851e-03, 2.28591958e-07],\n",
              "       [9.99071121e-01, 9.28688562e-04, 9.61580469e-08],\n",
              "       [9.99841094e-01, 1.58888884e-04, 7.65986297e-09],\n",
              "       [9.91412520e-01, 8.58495291e-03, 2.51915321e-06],\n",
              "       [9.95152235e-01, 4.84661618e-03, 1.14480690e-06],\n",
              "       [9.91843760e-01, 8.15489236e-03, 1.25509621e-06],\n",
              "       [9.96560156e-01, 3.43928346e-03, 6.48276114e-07],\n",
              "       [9.98865843e-01, 1.13402889e-03, 6.96425033e-08],\n",
              "       [9.98813033e-01, 1.18688750e-03, 6.67057165e-08],\n",
              "       [9.96140420e-01, 3.85889504e-03, 7.22481275e-07],\n",
              "       [9.94445682e-01, 5.55337034e-03, 1.00544923e-06],\n",
              "       [9.97222900e-01, 2.77692988e-03, 2.60015355e-07],\n",
              "       [9.99888778e-01, 1.11235131e-04, 2.87796031e-09],\n",
              "       [9.99919653e-01, 8.03634175e-05, 1.43043399e-09],\n",
              "       [9.96733546e-01, 3.26614268e-03, 3.22901116e-07],\n",
              "       [9.98753428e-01, 1.24643301e-03, 7.59271401e-08],\n",
              "       [9.99335349e-01, 6.64680090e-04, 1.91897129e-08],\n",
              "       [9.96733546e-01, 3.26614268e-03, 3.22901116e-07],\n",
              "       [9.97054219e-01, 2.94524105e-03, 5.65617029e-07],\n",
              "       [9.98433292e-01, 1.56652159e-03, 1.20391121e-07],\n",
              "       [9.99228120e-01, 7.71900231e-04, 5.68594380e-08],\n",
              "       [9.58334982e-01, 4.16466743e-02, 1.83581906e-05],\n",
              "       [9.98519242e-01, 1.48055784e-03, 2.34952054e-07],\n",
              "       [9.95941818e-01, 4.05683834e-03, 1.24676512e-06],\n",
              "       [9.97826278e-01, 2.17317138e-03, 4.27039538e-07],\n",
              "       [9.94435668e-01, 5.56328334e-03, 1.02702529e-06],\n",
              "       [9.99467194e-01, 5.32816572e-04, 3.36093819e-08],\n",
              "       [9.97918308e-01, 2.08139676e-03, 3.06804225e-07],\n",
              "       [9.99418378e-01, 5.81698783e-04, 2.59487081e-08],\n",
              "       [9.98394549e-01, 1.60532130e-03, 1.28442167e-07],\n",
              "       [6.38560043e-04, 9.11389351e-01, 8.79721716e-02],\n",
              "       [9.37584380e-04, 8.36808264e-01, 1.62254095e-01],\n",
              "       [1.75044974e-04, 8.10393512e-01, 1.89431384e-01],\n",
              "       [3.41745850e-04, 7.54873216e-01, 2.44784966e-01],\n",
              "       [1.57638919e-04, 7.69076467e-01, 2.30765954e-01],\n",
              "       [3.91970330e-04, 7.18974292e-01, 2.80633807e-01],\n",
              "       [4.95528046e-04, 7.20102310e-01, 2.79402167e-01],\n",
              "       [1.16455229e-02, 9.20819521e-01, 6.75349459e-02],\n",
              "       [4.16081632e-04, 8.81716430e-01, 1.17867418e-01],\n",
              "       [1.46500254e-03, 7.32508659e-01, 2.66026318e-01],\n",
              "       [1.50743290e-03, 8.78622770e-01, 1.19869791e-01],\n",
              "       [1.21748063e-03, 7.94335604e-01, 2.04446912e-01],\n",
              "       [5.75394311e-04, 9.27152336e-01, 7.22723454e-02],\n",
              "       [2.13643172e-04, 7.09074378e-01, 2.90712029e-01],\n",
              "       [1.06466953e-02, 9.18587983e-01, 7.07653612e-02],\n",
              "       [1.18839252e-03, 9.16338503e-01, 8.24730620e-02],\n",
              "       [4.01419384e-04, 6.02858007e-01, 3.96740466e-01],\n",
              "       [2.49472260e-03, 9.27683711e-01, 6.98215514e-02],\n",
              "       [2.25537060e-05, 6.05571508e-01, 3.94405901e-01],\n",
              "       [1.78526901e-03, 8.99898946e-01, 9.83157754e-02],\n",
              "       [9.29155722e-05, 3.93485248e-01, 6.06421828e-01],\n",
              "       [2.04035942e-03, 9.13152993e-01, 8.48065913e-02],\n",
              "       [1.63374552e-05, 5.26902974e-01, 4.73080695e-01],\n",
              "       [2.84083595e-04, 7.98840463e-01, 2.00875387e-01],\n",
              "       [1.09658833e-03, 9.08422112e-01, 9.04813185e-02],\n",
              "       [8.42726324e-04, 8.98011863e-01, 1.01145439e-01],\n",
              "       [1.11926616e-04, 8.19646955e-01, 1.80241004e-01],\n",
              "       [4.13715788e-05, 5.82231164e-01, 4.17727441e-01],\n",
              "       [3.02613102e-04, 6.97969675e-01, 3.01727682e-01],\n",
              "       [1.12206126e-02, 9.58841503e-01, 2.99378745e-02],\n",
              "       [1.73511903e-03, 8.96316946e-01, 1.01947926e-01],\n",
              "       [3.13718617e-03, 9.31079090e-01, 6.57837093e-02],\n",
              "       [2.67748837e-03, 9.12106216e-01, 8.52163136e-02],\n",
              "       [9.00494251e-06, 3.21172595e-01, 6.78818345e-01],\n",
              "       [3.74968746e-04, 5.39857209e-01, 4.59767848e-01],\n",
              "       [1.38236501e-03, 7.34626293e-01, 2.63991356e-01],\n",
              "       [3.38689832e-04, 8.26607227e-01, 1.73054084e-01],\n",
              "       [9.31358372e-05, 8.05473387e-01, 1.94433495e-01],\n",
              "       [3.11032170e-03, 8.47880185e-01, 1.49009541e-01],\n",
              "       [7.10804306e-04, 7.88110435e-01, 2.11178765e-01],\n",
              "       [3.59981088e-04, 7.24526465e-01, 2.75113583e-01],\n",
              "       [4.37567098e-04, 7.62997746e-01, 2.36564681e-01],\n",
              "       [1.37079204e-03, 8.88820708e-01, 1.09808572e-01],\n",
              "       [8.12548120e-03, 9.26185548e-01, 6.56888857e-02],\n",
              "       [7.54495384e-04, 7.79906988e-01, 2.19338492e-01],\n",
              "       [3.01003549e-03, 8.75581563e-01, 1.21408373e-01],\n",
              "       [1.56448374e-03, 8.29067826e-01, 1.69367582e-01],\n",
              "       [1.11416960e-03, 8.84834111e-01, 1.14051737e-01],\n",
              "       [3.03230044e-02, 9.32628274e-01, 3.70486714e-02],\n",
              "       [1.51662051e-03, 8.41212153e-01, 1.57271191e-01],\n",
              "       [2.37227802e-08, 1.67145729e-02, 9.83285367e-01],\n",
              "       [1.79674316e-06, 1.32097244e-01, 8.67900968e-01],\n",
              "       [1.94078254e-07, 1.21637940e-01, 8.78361881e-01],\n",
              "       [1.11310692e-06, 1.57726869e-01, 8.42271984e-01],\n",
              "       [1.02627524e-07, 5.42408787e-02, 9.45758998e-01],\n",
              "       [1.20071730e-08, 6.78219795e-02, 9.32177961e-01],\n",
              "       [1.45398581e-05, 1.75792113e-01, 8.24193358e-01],\n",
              "       [1.11224573e-07, 1.57848507e-01, 8.42151403e-01],\n",
              "       [1.15989110e-07, 1.29072756e-01, 8.70927095e-01],\n",
              "       [1.38676938e-07, 5.66619523e-02, 9.43337917e-01],\n",
              "       [1.58381172e-05, 3.11008245e-01, 6.88975871e-01],\n",
              "       [1.22479253e-06, 1.85859799e-01, 8.14139009e-01],\n",
              "       [9.22764798e-07, 1.64153978e-01, 8.35845053e-01],\n",
              "       [6.57678413e-07, 9.02729854e-02, 9.09726381e-01],\n",
              "       [2.00487094e-07, 3.74082513e-02, 9.62591529e-01],\n",
              "       [1.36468918e-06, 1.02597296e-01, 8.97401333e-01],\n",
              "       [3.12509928e-06, 2.42684200e-01, 7.57312715e-01],\n",
              "       [1.55805765e-07, 9.93191823e-02, 9.00680661e-01],\n",
              "       [1.90488431e-10, 1.78180784e-02, 9.82181966e-01],\n",
              "       [2.79646838e-06, 3.21006507e-01, 6.78990662e-01],\n",
              "       [3.41920384e-07, 9.44693163e-02, 9.05530393e-01],\n",
              "       [3.45608396e-06, 1.22491315e-01, 8.77505243e-01],\n",
              "       [5.89657922e-09, 7.08041191e-02, 9.29195821e-01],\n",
              "       [1.03255834e-05, 3.59427631e-01, 6.40562057e-01],\n",
              "       [1.21829783e-06, 1.37234718e-01, 8.62764001e-01],\n",
              "       [1.36902872e-06, 2.75875241e-01, 7.24123359e-01],\n",
              "       [2.20455295e-05, 3.94753784e-01, 6.05224192e-01],\n",
              "       [3.08375020e-05, 3.65968257e-01, 6.34000897e-01],\n",
              "       [1.69849102e-07, 7.46017396e-02, 9.25398111e-01],\n",
              "       [3.39058101e-06, 4.49298859e-01, 5.50697744e-01],\n",
              "       [1.19106410e-07, 1.72949553e-01, 8.27050328e-01],\n",
              "       [1.89075217e-06, 3.07742625e-01, 6.92255497e-01],\n",
              "       [1.00151233e-07, 5.67767024e-02, 9.43223178e-01],\n",
              "       [2.42814076e-05, 5.06449461e-01, 4.93526310e-01],\n",
              "       [1.88241120e-06, 2.59082884e-01, 7.40915298e-01],\n",
              "       [4.81591549e-08, 1.03786670e-01, 8.96213233e-01],\n",
              "       [4.24863259e-07, 4.96881083e-02, 9.50311422e-01],\n",
              "       [4.39162568e-06, 2.36575216e-01, 7.63420343e-01],\n",
              "       [4.39662763e-05, 3.78843695e-01, 6.21112287e-01],\n",
              "       [2.38910911e-06, 2.28054881e-01, 7.71942794e-01],\n",
              "       [1.72471204e-07, 6.17143922e-02, 9.38285470e-01],\n",
              "       [3.43030547e-06, 2.22442776e-01, 7.77553797e-01],\n",
              "       [1.79674316e-06, 1.32097244e-01, 8.67900968e-01],\n",
              "       [1.21317157e-07, 5.96811548e-02, 9.40318763e-01],\n",
              "       [1.50706782e-07, 4.71145660e-02, 9.52885211e-01],\n",
              "       [1.21049140e-06, 1.43231347e-01, 8.56767416e-01],\n",
              "       [1.85258978e-06, 2.23611996e-01, 7.76386142e-01],\n",
              "       [4.48913579e-06, 2.36822262e-01, 7.63173223e-01],\n",
              "       [1.67420637e-06, 8.16774294e-02, 9.18320894e-01],\n",
              "       [1.14011882e-05, 2.35883221e-01, 7.64105320e-01]], dtype=float32)"
            ]
          },
          "metadata": {
            "tags": []
          },
          "execution_count": 10
        }
      ]
    },
    {
      "cell_type": "code",
      "metadata": {
        "colab": {
          "base_uri": "https://localhost:8080/"
        },
        "id": "uywUmLufR0zh",
        "outputId": "85d6130a-cf8f-4464-af69-131d994fb1b6"
      },
      "source": [
        "model.predict([[5.1, 3.5, 1.4, 0.2]])"
      ],
      "execution_count": 11,
      "outputs": [
        {
          "output_type": "execute_result",
          "data": {
            "text/plain": [
              "array([[9.9917632e-01, 8.2363596e-04, 4.7868376e-08]], dtype=float32)"
            ]
          },
          "metadata": {
            "tags": []
          },
          "execution_count": 11
        }
      ]
    },
    {
      "cell_type": "code",
      "metadata": {
        "colab": {
          "base_uri": "https://localhost:8080/"
        },
        "id": "oNjcpYBAR-A6",
        "outputId": "53a5cbdb-aee5-4829-8bf5-405c6e08d2d3"
      },
      "source": [
        "model.get_weights()"
      ],
      "execution_count": 12,
      "outputs": [
        {
          "output_type": "execute_result",
          "data": {
            "text/plain": [
              "[array([[ 1.0424904 ,  1.2535572 , -0.03552704],\n",
              "        [ 3.469206  ,  0.02300576, -0.9308156 ],\n",
              "        [-3.2388396 , -0.24875134,  1.5914913 ],\n",
              "        [-3.7681313 , -1.2162236 ,  1.7049367 ]], dtype=float32),\n",
              " array([ 2.0939665,  1.2817637, -1.7191325], dtype=float32)]"
            ]
          },
          "metadata": {
            "tags": []
          },
          "execution_count": 12
        }
      ]
    },
    {
      "cell_type": "markdown",
      "metadata": {
        "id": "j3MKJYHPTA6l"
      },
      "source": [
        "## 히든레이어"
      ]
    },
    {
      "cell_type": "code",
      "metadata": {
        "id": "Jl4oczNZUbQU"
      },
      "source": [
        "import pandas as pd\r\n",
        "import tensorflow as tf"
      ],
      "execution_count": 19,
      "outputs": []
    },
    {
      "cell_type": "code",
      "metadata": {
        "colab": {
          "base_uri": "https://localhost:8080/",
          "height": 204
        },
        "id": "zgWiMKsiS_nL",
        "outputId": "7edf1df0-b57e-4537-e496-87d4d099a2fe"
      },
      "source": [
        "data = {\r\n",
        "    '창업연차' : [4, 5, 6, 7, 8],\r\n",
        "    '직원수' : [10, 20, 30, 40, 50],\r\n",
        "    '기업가치' : [80, 200, 360, 540, 800]\r\n",
        "}\r\n",
        "\r\n",
        "df = pd.DataFrame(data)\r\n",
        "df"
      ],
      "execution_count": 13,
      "outputs": [
        {
          "output_type": "execute_result",
          "data": {
            "text/html": [
              "<div>\n",
              "<style scoped>\n",
              "    .dataframe tbody tr th:only-of-type {\n",
              "        vertical-align: middle;\n",
              "    }\n",
              "\n",
              "    .dataframe tbody tr th {\n",
              "        vertical-align: top;\n",
              "    }\n",
              "\n",
              "    .dataframe thead th {\n",
              "        text-align: right;\n",
              "    }\n",
              "</style>\n",
              "<table border=\"1\" class=\"dataframe\">\n",
              "  <thead>\n",
              "    <tr style=\"text-align: right;\">\n",
              "      <th></th>\n",
              "      <th>창업연차</th>\n",
              "      <th>직원수</th>\n",
              "      <th>기업가치</th>\n",
              "    </tr>\n",
              "  </thead>\n",
              "  <tbody>\n",
              "    <tr>\n",
              "      <th>0</th>\n",
              "      <td>4</td>\n",
              "      <td>10</td>\n",
              "      <td>80</td>\n",
              "    </tr>\n",
              "    <tr>\n",
              "      <th>1</th>\n",
              "      <td>5</td>\n",
              "      <td>20</td>\n",
              "      <td>200</td>\n",
              "    </tr>\n",
              "    <tr>\n",
              "      <th>2</th>\n",
              "      <td>6</td>\n",
              "      <td>30</td>\n",
              "      <td>360</td>\n",
              "    </tr>\n",
              "    <tr>\n",
              "      <th>3</th>\n",
              "      <td>7</td>\n",
              "      <td>40</td>\n",
              "      <td>540</td>\n",
              "    </tr>\n",
              "    <tr>\n",
              "      <th>4</th>\n",
              "      <td>8</td>\n",
              "      <td>50</td>\n",
              "      <td>800</td>\n",
              "    </tr>\n",
              "  </tbody>\n",
              "</table>\n",
              "</div>"
            ],
            "text/plain": [
              "   창업연차  직원수  기업가치\n",
              "0     4   10    80\n",
              "1     5   20   200\n",
              "2     6   30   360\n",
              "3     7   40   540\n",
              "4     8   50   800"
            ]
          },
          "metadata": {
            "tags": []
          },
          "execution_count": 13
        }
      ]
    },
    {
      "cell_type": "code",
      "metadata": {
        "colab": {
          "base_uri": "https://localhost:8080/"
        },
        "id": "o-FoyAKlTmaz",
        "outputId": "09030fc6-19da-48bb-8423-905bca9f31f5"
      },
      "source": [
        "9 * 60 * 2\r\n",
        "8 * 50 * 2"
      ],
      "execution_count": 15,
      "outputs": [
        {
          "output_type": "execute_result",
          "data": {
            "text/plain": [
              "800"
            ]
          },
          "metadata": {
            "tags": []
          },
          "execution_count": 15
        }
      ]
    },
    {
      "cell_type": "code",
      "metadata": {
        "colab": {
          "base_uri": "https://localhost:8080/"
        },
        "id": "RumOX6vYT2lE",
        "outputId": "d44c9971-868b-479d-ead2-931fe70ab038"
      },
      "source": [
        "독립 = df[['창업연차', '직원수']]\r\n",
        "종속 = df[['기업가치']]\r\n",
        "\r\n",
        "독립.shape, 종속.shape"
      ],
      "execution_count": 17,
      "outputs": [
        {
          "output_type": "execute_result",
          "data": {
            "text/plain": [
              "((5, 2), (5, 1))"
            ]
          },
          "metadata": {
            "tags": []
          },
          "execution_count": 17
        }
      ]
    },
    {
      "cell_type": "code",
      "metadata": {
        "id": "_HNtqSuDT9S4"
      },
      "source": [
        "## 모델 준비\r\n",
        "X = tf.keras.layers.Input(shape=[2]) # 독립변수의 col\r\n",
        "Y = tf.keras.layers.Dense(1)(X) # 종속변수의 col\r\n",
        "model = tf.keras.models.Model(X, Y)\r\n",
        "model.compile(loss='mse')"
      ],
      "execution_count": 18,
      "outputs": []
    },
    {
      "cell_type": "code",
      "metadata": {
        "colab": {
          "base_uri": "https://localhost:8080/"
        },
        "id": "OVVnPXMUUPBS",
        "outputId": "737467ce-efc1-4964-d6f9-0f8fd37b44e8"
      },
      "source": [
        "## 모델 학습\r\n",
        "model.fit(독립, 종속, epochs=100000, verbose=0) # epochs는 학습 수\r\n",
        "model.fit(독립, 종속, epochs=10) # epochs는 학습 수"
      ],
      "execution_count": 26,
      "outputs": [
        {
          "output_type": "stream",
          "text": [
            "Epoch 1/10\n",
            "1/1 [==============================] - 0s 4ms/step - loss: 1336.0006\n",
            "Epoch 2/10\n",
            "1/1 [==============================] - 0s 4ms/step - loss: 1336.0007\n",
            "Epoch 3/10\n",
            "1/1 [==============================] - 0s 3ms/step - loss: 1336.0006\n",
            "Epoch 4/10\n",
            "1/1 [==============================] - 0s 9ms/step - loss: 1336.0007\n",
            "Epoch 5/10\n",
            "1/1 [==============================] - 0s 5ms/step - loss: 1336.0006\n",
            "Epoch 6/10\n",
            "1/1 [==============================] - 0s 4ms/step - loss: 1336.0007\n",
            "Epoch 7/10\n",
            "1/1 [==============================] - 0s 5ms/step - loss: 1336.0006\n",
            "Epoch 8/10\n",
            "1/1 [==============================] - 0s 7ms/step - loss: 1336.0007\n",
            "Epoch 9/10\n",
            "1/1 [==============================] - 0s 4ms/step - loss: 1336.0006\n",
            "Epoch 10/10\n",
            "1/1 [==============================] - 0s 2ms/step - loss: 1336.0007\n"
          ],
          "name": "stdout"
        },
        {
          "output_type": "execute_result",
          "data": {
            "text/plain": [
              "<tensorflow.python.keras.callbacks.History at 0x7f398dbe3cf8>"
            ]
          },
          "metadata": {
            "tags": []
          },
          "execution_count": 26
        }
      ]
    },
    {
      "cell_type": "code",
      "metadata": {
        "colab": {
          "base_uri": "https://localhost:8080/"
        },
        "id": "u36x1TLLYCQf",
        "outputId": "cd5019d8-bf3d-40fc-b669-6e671a61dac7"
      },
      "source": [
        "model.predict(독립)"
      ],
      "execution_count": 25,
      "outputs": [
        {
          "output_type": "execute_result",
          "data": {
            "text/plain": [
              "array([[ 40.00759],\n",
              "       [218.01305],\n",
              "       [396.0185 ],\n",
              "       [574.024  ],\n",
              "       [752.0294 ]], dtype=float32)"
            ]
          },
          "metadata": {
            "tags": []
          },
          "execution_count": 25
        }
      ]
    },
    {
      "cell_type": "code",
      "metadata": {
        "colab": {
          "base_uri": "https://localhost:8080/"
        },
        "id": "OA3pr30RZGjW",
        "outputId": "7995dfdd-f135-4b93-b6ab-435fac7d3824"
      },
      "source": [
        "model.predict(독립)"
      ],
      "execution_count": 29,
      "outputs": [
        {
          "output_type": "execute_result",
          "data": {
            "text/plain": [
              "array([[ 40.00759],\n",
              "       [218.01305],\n",
              "       [396.0185 ],\n",
              "       [574.024  ],\n",
              "       [752.0294 ]], dtype=float32)"
            ]
          },
          "metadata": {
            "tags": []
          },
          "execution_count": 29
        }
      ]
    },
    {
      "cell_type": "code",
      "metadata": {
        "id": "59E3exYdZvZY"
      },
      "source": [
        "## 모델 준비\r\n",
        "X = tf.keras.layers.Input(shape=[2]) # 독립변수의 col\r\n",
        "H = tf.keras.layers.Dense(10, activation='swish')(X)\r\n",
        "H = tf.keras.layers.Dense(10, activation='swish')(H)\r\n",
        "H = tf.keras.layers.Dense(10, activation='swish')(H)\r\n",
        "Y = tf.keras.layers.Dense(1)(H) # 종속변수의 col\r\n",
        "model = tf.keras.models.Model(X, Y)\r\n",
        "model.compile(loss='mse')"
      ],
      "execution_count": 30,
      "outputs": []
    },
    {
      "cell_type": "code",
      "metadata": {
        "colab": {
          "base_uri": "https://localhost:8080/"
        },
        "id": "UWj7FPEZZ8GP",
        "outputId": "aff85707-0772-490d-c4dc-230246d3fbd8"
      },
      "source": [
        "## 모델 학습\r\n",
        "model.fit(독립, 종속, epochs=100000, verbose=0) # epochs는 학습 수\r\n",
        "model.fit(독립, 종속, epochs=10) # epochs는 학습 수"
      ],
      "execution_count": 31,
      "outputs": [
        {
          "output_type": "stream",
          "text": [
            "Epoch 1/10\n",
            "1/1 [==============================] - 0s 4ms/step - loss: 2.9364\n",
            "Epoch 2/10\n",
            "1/1 [==============================] - 0s 6ms/step - loss: 2.9913\n",
            "Epoch 3/10\n",
            "1/1 [==============================] - 0s 4ms/step - loss: 3.2849\n",
            "Epoch 4/10\n",
            "1/1 [==============================] - 0s 4ms/step - loss: 3.3404\n",
            "Epoch 5/10\n",
            "1/1 [==============================] - 0s 5ms/step - loss: 3.4185\n",
            "Epoch 6/10\n",
            "1/1 [==============================] - 0s 3ms/step - loss: 3.3438\n",
            "Epoch 7/10\n",
            "1/1 [==============================] - 0s 4ms/step - loss: 3.3808\n",
            "Epoch 8/10\n",
            "1/1 [==============================] - 0s 5ms/step - loss: 3.3164\n",
            "Epoch 9/10\n",
            "1/1 [==============================] - 0s 4ms/step - loss: 3.2260\n",
            "Epoch 10/10\n",
            "1/1 [==============================] - 0s 5ms/step - loss: 3.1628\n"
          ],
          "name": "stdout"
        },
        {
          "output_type": "execute_result",
          "data": {
            "text/plain": [
              "<tensorflow.python.keras.callbacks.History at 0x7f398ce224a8>"
            ]
          },
          "metadata": {
            "tags": []
          },
          "execution_count": 31
        }
      ]
    },
    {
      "cell_type": "code",
      "metadata": {
        "colab": {
          "base_uri": "https://localhost:8080/"
        },
        "id": "NpmwmQgCazuf",
        "outputId": "5de3e7d5-e63e-4910-9476-48482ac05e11"
      },
      "source": [
        "model.predict(독립)"
      ],
      "execution_count": 32,
      "outputs": [
        {
          "output_type": "execute_result",
          "data": {
            "text/plain": [
              "array([[ 80.55703],\n",
              "       [201.30109],\n",
              "       [362.26923],\n",
              "       [541.92065],\n",
              "       [802.21185]], dtype=float32)"
            ]
          },
          "metadata": {
            "tags": []
          },
          "execution_count": 32
        }
      ]
    },
    {
      "cell_type": "code",
      "metadata": {
        "colab": {
          "base_uri": "https://localhost:8080/"
        },
        "id": "8bRlgPp2bavz",
        "outputId": "3b520ebf-22ec-469f-df25-7ddb6874c60c"
      },
      "source": [
        "model.predict([[9, 60]])"
      ],
      "execution_count": 33,
      "outputs": [
        {
          "output_type": "execute_result",
          "data": {
            "text/plain": [
              "array([[971.6316]], dtype=float32)"
            ]
          },
          "metadata": {
            "tags": []
          },
          "execution_count": 33
        }
      ]
    },
    {
      "cell_type": "code",
      "metadata": {
        "colab": {
          "base_uri": "https://localhost:8080/"
        },
        "id": "tj6Y0CEZb1z7",
        "outputId": "4c13aee8-ced6-4c88-9aad-030d81acdb53"
      },
      "source": [
        "model.get_weights()"
      ],
      "execution_count": 34,
      "outputs": [
        {
          "output_type": "execute_result",
          "data": {
            "text/plain": [
              "[array([[ 0.75911945,  1.1343637 ,  0.08391015,  0.6134996 , -0.11543693,\n",
              "         -0.76582396,  0.8819028 ,  0.48899165, -0.11505637, -1.4400626 ],\n",
              "        [-0.16695927, -0.22369613,  0.44612536, -0.15080552,  0.9968465 ,\n",
              "          0.57317275, -0.25148797,  0.6504851 ,  0.00562786,  0.71707547]],\n",
              "       dtype=float32),\n",
              " array([ 1.2311378 ,  0.9343593 ,  0.04395708,  1.6834301 , -0.69349587,\n",
              "        -1.2895297 ,  0.31865025, -0.11727212,  0.5673323 , -1.6838378 ],\n",
              "       dtype=float32),\n",
              " array([[ 8.08377624e-01,  8.21109533e-01,  1.50204003e-01,\n",
              "         -5.41574001e-01,  1.10583580e+00, -1.31281483e+00,\n",
              "         -1.25764573e+00, -8.86196041e+00, -4.95811850e-01,\n",
              "          1.12742484e+00],\n",
              "        [ 1.05549312e+00,  7.46800900e-01,  6.92513764e-01,\n",
              "         -8.37019444e-01,  1.07649267e+00, -1.50832772e+00,\n",
              "         -8.08406949e-01, -6.96664476e+00,  3.40517759e-01,\n",
              "          1.54365361e-01],\n",
              "        [-2.76513547e-01, -1.59810893e-02, -2.53848284e-01,\n",
              "          8.22523177e-01,  5.96847177e-01,  9.65840518e-01,\n",
              "         -1.02436796e-01, -4.79670435e-01,  2.61197495e-03,\n",
              "          4.94853139e-01],\n",
              "        [-3.68229508e-01,  1.01262331e+00,  4.33589071e-01,\n",
              "         -6.52705073e-01,  1.38153136e-01, -9.11274910e-01,\n",
              "         -7.05042779e-01, -7.23482275e+00, -6.21438086e-01,\n",
              "          2.12521061e-01],\n",
              "        [-1.86719462e-01, -5.38776278e-01, -1.98105425e-01,\n",
              "          9.19781148e-01, -2.54267961e-01,  5.32884419e-01,\n",
              "          5.82637548e-01, -2.79582024e-01, -2.92580351e-02,\n",
              "         -1.66282699e-01],\n",
              "        [ 2.77484566e-01, -5.80894232e-01, -9.08236876e-02,\n",
              "          4.15792137e-01, -3.07901472e-01,  3.21349084e-01,\n",
              "          9.07243490e-01,  6.27260268e-01, -4.51775759e-01,\n",
              "         -4.40006703e-01],\n",
              "        [-5.12509108e+00, -3.43153620e+00, -7.15229082e+00,\n",
              "          1.16282997e+01, -2.92371416e+00,  9.68206882e+00,\n",
              "          2.99302864e+00,  2.68167806e+00, -5.08041143e+00,\n",
              "         -1.76932549e+00],\n",
              "        [-4.45530377e-02,  5.72840393e-01,  4.92491037e-01,\n",
              "          7.50453115e-01,  1.89028367e-01,  9.31525230e-01,\n",
              "          8.36808503e-01, -2.03593537e-01,  6.21744037e-01,\n",
              "          1.38628960e-01],\n",
              "        [ 1.42943561e-01,  3.48617183e-03,  8.75406787e-02,\n",
              "         -7.00835109e-01,  5.10887325e-01,  8.60350505e-02,\n",
              "          7.70952046e-01,  8.01194981e-02, -7.95135856e-01,\n",
              "         -1.71114244e-02],\n",
              "        [ 2.03860581e-01,  3.92097712e-01, -1.94394022e-01,\n",
              "          5.59139013e-01, -2.30194181e-01,  8.40438008e-01,\n",
              "          1.01810348e+00,  7.76109695e-01, -6.84326530e-01,\n",
              "         -1.18013036e+00]], dtype=float32),\n",
              " array([ 0.6966961 ,  0.76679873,  0.9728565 , -0.6144165 ,  1.025164  ,\n",
              "        -0.5330864 , -0.6167995 , -1.2576675 ,  0.8928433 ,  0.7718396 ],\n",
              "       dtype=float32),\n",
              " array([[-4.95370579e+00,  2.49356940e-01, -2.42607880e+00,\n",
              "          2.95262671e+00, -2.37042236e+00, -3.71070528e+00,\n",
              "         -2.48781800e+00,  2.53443384e+00,  2.41077662e+00,\n",
              "         -2.33176041e+00],\n",
              "        [-1.12446439e+00,  4.90849614e-01, -2.63100803e-01,\n",
              "         -5.05413525e-02, -1.04802996e-01, -2.26940441e+00,\n",
              "         -3.44558001e-01,  3.36280406e-01,  8.56279612e-01,\n",
              "         -9.37761605e-01],\n",
              "        [-3.07759434e-01,  6.01876387e-03,  4.85810965e-01,\n",
              "         -1.55477107e-01, -2.04840064e-01,  1.24576911e-01,\n",
              "          3.02008521e-02, -8.55549157e-01, -7.84212291e-01,\n",
              "          4.93626326e-01],\n",
              "        [-2.23334461e-01, -5.67521155e-01,  4.11637276e-01,\n",
              "          1.17366064e+00, -1.90953851e-01, -1.01762399e-01,\n",
              "          3.15434903e-01,  8.90727937e-01,  7.38473296e-01,\n",
              "          2.48031959e-01],\n",
              "        [-2.15401307e-01,  3.94573137e-02,  1.19525135e-01,\n",
              "         -4.78965610e-01,  7.32920393e-02, -6.08139455e-01,\n",
              "         -2.90871561e-01, -8.66219997e-01, -4.04177487e-01,\n",
              "          4.42408562e-01],\n",
              "        [-1.48188174e-01, -7.05585718e-01, -4.45704103e-01,\n",
              "          5.49598098e-01,  6.30202889e-01, -1.05632596e-01,\n",
              "         -3.45571965e-01,  1.10645485e+00,  1.04551446e+00,\n",
              "          3.80047292e-01],\n",
              "        [ 5.34878194e-01, -3.29718411e-01,  2.41175607e-01,\n",
              "          8.47051263e-01, -2.34378800e-01,  3.58241946e-01,\n",
              "          2.53052652e-01,  5.13670087e-01,  1.20972466e+00,\n",
              "         -4.54433084e-01],\n",
              "        [-6.69529343e+00, -1.80425242e-01, -6.90459585e+00,\n",
              "          8.86537075e-01, -7.46663761e+00, -6.49921608e+00,\n",
              "         -7.27922583e+00,  1.08356082e+00,  8.84106815e-01,\n",
              "         -7.55377054e+00],\n",
              "        [-2.94918567e-01,  6.39544606e-01, -6.67878509e-01,\n",
              "         -8.99452150e-01, -3.58809650e-01, -3.90647538e-02,\n",
              "         -5.31674564e-01, -7.56925881e-01, -4.01235878e-01,\n",
              "         -6.16725266e-01],\n",
              "        [ 7.72498608e-01,  5.50486565e-01,  8.36965919e-01,\n",
              "         -1.35360837e+00,  1.20485209e-01,  1.79676270e+00,\n",
              "          3.46443713e-01, -3.48988533e-01, -1.01784563e+00,\n",
              "          1.05922781e-01]], dtype=float32),\n",
              " array([ 1.0379053 , -0.10666949,  0.95651853, -0.40517452,  0.9733969 ,\n",
              "         0.8898976 ,  0.8547911 , -0.4174715 , -0.41633806,  0.89934844],\n",
              "       dtype=float32),\n",
              " array([[-0.20073093],\n",
              "        [ 0.34065342],\n",
              "        [-0.8545707 ],\n",
              "        [ 1.2300434 ],\n",
              "        [-1.1101764 ],\n",
              "        [-0.4324396 ],\n",
              "        [-0.49499786],\n",
              "        [ 0.70949346],\n",
              "        [ 0.84296453],\n",
              "        [-0.76869655]], dtype=float32),\n",
              " array([-0.37386546], dtype=float32)]"
            ]
          },
          "metadata": {
            "tags": []
          },
          "execution_count": 34
        }
      ]
    },
    {
      "cell_type": "markdown",
      "metadata": {
        "id": "fk1OLWs6f0hU"
      },
      "source": [
        "## 오름데이터 추천"
      ]
    },
    {
      "cell_type": "code",
      "metadata": {
        "colab": {
          "base_uri": "https://localhost:8080/",
          "height": 1000
        },
        "id": "G6Ab1xRfc0A1",
        "outputId": "ecdbb1d2-4d03-4c44-d88b-a4a518e664ab"
      },
      "source": [
        "df = pd.read_csv('test.csv', encoding='utf-8')\r\n",
        "df"
      ],
      "execution_count": 37,
      "outputs": [
        {
          "output_type": "execute_result",
          "data": {
            "text/html": [
              "<div>\n",
              "<style scoped>\n",
              "    .dataframe tbody tr th:only-of-type {\n",
              "        vertical-align: middle;\n",
              "    }\n",
              "\n",
              "    .dataframe tbody tr th {\n",
              "        vertical-align: top;\n",
              "    }\n",
              "\n",
              "    .dataframe thead th {\n",
              "        text-align: right;\n",
              "    }\n",
              "</style>\n",
              "<table border=\"1\" class=\"dataframe\">\n",
              "  <thead>\n",
              "    <tr style=\"text-align: right;\">\n",
              "      <th></th>\n",
              "      <th>name</th>\n",
              "      <th>loc</th>\n",
              "      <th>men</th>\n",
              "      <th>women</th>\n",
              "      <th>age</th>\n",
              "    </tr>\n",
              "  </thead>\n",
              "  <tbody>\n",
              "    <tr>\n",
              "      <th>0</th>\n",
              "      <td>송악산</td>\n",
              "      <td>0</td>\n",
              "      <td>56</td>\n",
              "      <td>44</td>\n",
              "      <td>30</td>\n",
              "    </tr>\n",
              "    <tr>\n",
              "      <th>1</th>\n",
              "      <td>물영아리</td>\n",
              "      <td>0</td>\n",
              "      <td>54</td>\n",
              "      <td>46</td>\n",
              "      <td>20</td>\n",
              "    </tr>\n",
              "    <tr>\n",
              "      <th>2</th>\n",
              "      <td>이승이</td>\n",
              "      <td>0</td>\n",
              "      <td>61</td>\n",
              "      <td>39</td>\n",
              "      <td>30</td>\n",
              "    </tr>\n",
              "    <tr>\n",
              "      <th>3</th>\n",
              "      <td>머체왓숲길</td>\n",
              "      <td>0</td>\n",
              "      <td>47</td>\n",
              "      <td>53</td>\n",
              "      <td>50</td>\n",
              "    </tr>\n",
              "    <tr>\n",
              "      <th>4</th>\n",
              "      <td>성산일출봉</td>\n",
              "      <td>0</td>\n",
              "      <td>63</td>\n",
              "      <td>37</td>\n",
              "      <td>20</td>\n",
              "    </tr>\n",
              "    <tr>\n",
              "      <th>5</th>\n",
              "      <td>군산</td>\n",
              "      <td>0</td>\n",
              "      <td>65</td>\n",
              "      <td>35</td>\n",
              "      <td>30</td>\n",
              "    </tr>\n",
              "    <tr>\n",
              "      <th>6</th>\n",
              "      <td>용머리</td>\n",
              "      <td>0</td>\n",
              "      <td>59</td>\n",
              "      <td>41</td>\n",
              "      <td>20</td>\n",
              "    </tr>\n",
              "    <tr>\n",
              "      <th>7</th>\n",
              "      <td>따라비오름</td>\n",
              "      <td>0</td>\n",
              "      <td>56</td>\n",
              "      <td>44</td>\n",
              "      <td>30</td>\n",
              "    </tr>\n",
              "    <tr>\n",
              "      <th>8</th>\n",
              "      <td>영주산</td>\n",
              "      <td>0</td>\n",
              "      <td>49</td>\n",
              "      <td>51</td>\n",
              "      <td>30</td>\n",
              "    </tr>\n",
              "    <tr>\n",
              "      <th>9</th>\n",
              "      <td>백약이오름</td>\n",
              "      <td>0</td>\n",
              "      <td>42</td>\n",
              "      <td>58</td>\n",
              "      <td>20</td>\n",
              "    </tr>\n",
              "    <tr>\n",
              "      <th>10</th>\n",
              "      <td>붉은오름</td>\n",
              "      <td>0</td>\n",
              "      <td>50</td>\n",
              "      <td>50</td>\n",
              "      <td>30</td>\n",
              "    </tr>\n",
              "    <tr>\n",
              "      <th>11</th>\n",
              "      <td>고근산</td>\n",
              "      <td>0</td>\n",
              "      <td>50</td>\n",
              "      <td>50</td>\n",
              "      <td>50</td>\n",
              "    </tr>\n",
              "    <tr>\n",
              "      <th>12</th>\n",
              "      <td>거문오름</td>\n",
              "      <td>1</td>\n",
              "      <td>50</td>\n",
              "      <td>50</td>\n",
              "      <td>30</td>\n",
              "    </tr>\n",
              "    <tr>\n",
              "      <th>13</th>\n",
              "      <td>검은오름</td>\n",
              "      <td>1</td>\n",
              "      <td>46</td>\n",
              "      <td>54</td>\n",
              "      <td>20</td>\n",
              "    </tr>\n",
              "    <tr>\n",
              "      <th>14</th>\n",
              "      <td>궷물오름</td>\n",
              "      <td>1</td>\n",
              "      <td>54</td>\n",
              "      <td>46</td>\n",
              "      <td>20</td>\n",
              "    </tr>\n",
              "    <tr>\n",
              "      <th>15</th>\n",
              "      <td>다랑쉬</td>\n",
              "      <td>1</td>\n",
              "      <td>54</td>\n",
              "      <td>46</td>\n",
              "      <td>20</td>\n",
              "    </tr>\n",
              "    <tr>\n",
              "      <th>16</th>\n",
              "      <td>도두봉</td>\n",
              "      <td>1</td>\n",
              "      <td>48</td>\n",
              "      <td>52</td>\n",
              "      <td>20</td>\n",
              "    </tr>\n",
              "    <tr>\n",
              "      <th>17</th>\n",
              "      <td>물메(수산봉)</td>\n",
              "      <td>1</td>\n",
              "      <td>53</td>\n",
              "      <td>47</td>\n",
              "      <td>20</td>\n",
              "    </tr>\n",
              "    <tr>\n",
              "      <th>18</th>\n",
              "      <td>민오름</td>\n",
              "      <td>1</td>\n",
              "      <td>47</td>\n",
              "      <td>53</td>\n",
              "      <td>20</td>\n",
              "    </tr>\n",
              "    <tr>\n",
              "      <th>19</th>\n",
              "      <td>큰바리메오름</td>\n",
              "      <td>1</td>\n",
              "      <td>64</td>\n",
              "      <td>36</td>\n",
              "      <td>50</td>\n",
              "    </tr>\n",
              "    <tr>\n",
              "      <th>20</th>\n",
              "      <td>붉은오름</td>\n",
              "      <td>1</td>\n",
              "      <td>50</td>\n",
              "      <td>50</td>\n",
              "      <td>30</td>\n",
              "    </tr>\n",
              "    <tr>\n",
              "      <th>21</th>\n",
              "      <td>산굼부리</td>\n",
              "      <td>1</td>\n",
              "      <td>54</td>\n",
              "      <td>46</td>\n",
              "      <td>20</td>\n",
              "    </tr>\n",
              "    <tr>\n",
              "      <th>22</th>\n",
              "      <td>새별오름</td>\n",
              "      <td>1</td>\n",
              "      <td>50</td>\n",
              "      <td>50</td>\n",
              "      <td>20</td>\n",
              "    </tr>\n",
              "    <tr>\n",
              "      <th>23</th>\n",
              "      <td>서우봉</td>\n",
              "      <td>1</td>\n",
              "      <td>49</td>\n",
              "      <td>51</td>\n",
              "      <td>20</td>\n",
              "    </tr>\n",
              "    <tr>\n",
              "      <th>24</th>\n",
              "      <td>수월봉</td>\n",
              "      <td>1</td>\n",
              "      <td>55</td>\n",
              "      <td>45</td>\n",
              "      <td>20</td>\n",
              "    </tr>\n",
              "    <tr>\n",
              "      <th>25</th>\n",
              "      <td>아끈다랑쉬</td>\n",
              "      <td>1</td>\n",
              "      <td>50</td>\n",
              "      <td>50</td>\n",
              "      <td>30</td>\n",
              "    </tr>\n",
              "    <tr>\n",
              "      <th>26</th>\n",
              "      <td>아부오름</td>\n",
              "      <td>1</td>\n",
              "      <td>44</td>\n",
              "      <td>56</td>\n",
              "      <td>20</td>\n",
              "    </tr>\n",
              "    <tr>\n",
              "      <th>27</th>\n",
              "      <td>안돌오름</td>\n",
              "      <td>1</td>\n",
              "      <td>58</td>\n",
              "      <td>42</td>\n",
              "      <td>20</td>\n",
              "    </tr>\n",
              "    <tr>\n",
              "      <th>28</th>\n",
              "      <td>용눈이오름</td>\n",
              "      <td>1</td>\n",
              "      <td>42</td>\n",
              "      <td>58</td>\n",
              "      <td>20</td>\n",
              "    </tr>\n",
              "    <tr>\n",
              "      <th>29</th>\n",
              "      <td>저지오름</td>\n",
              "      <td>1</td>\n",
              "      <td>56</td>\n",
              "      <td>44</td>\n",
              "      <td>50</td>\n",
              "    </tr>\n",
              "    <tr>\n",
              "      <th>30</th>\n",
              "      <td>정물오름</td>\n",
              "      <td>1</td>\n",
              "      <td>62</td>\n",
              "      <td>38</td>\n",
              "      <td>40</td>\n",
              "    </tr>\n",
              "    <tr>\n",
              "      <th>31</th>\n",
              "      <td>지미봉</td>\n",
              "      <td>1</td>\n",
              "      <td>56</td>\n",
              "      <td>44</td>\n",
              "      <td>20</td>\n",
              "    </tr>\n",
              "  </tbody>\n",
              "</table>\n",
              "</div>"
            ],
            "text/plain": [
              "       name  loc  men  women  age\n",
              "0       송악산    0   56     44   30\n",
              "1      물영아리    0   54     46   20\n",
              "2       이승이    0   61     39   30\n",
              "3     머체왓숲길    0   47     53   50\n",
              "4     성산일출봉    0   63     37   20\n",
              "5        군산    0   65     35   30\n",
              "6       용머리    0   59     41   20\n",
              "7     따라비오름    0   56     44   30\n",
              "8       영주산    0   49     51   30\n",
              "9     백약이오름    0   42     58   20\n",
              "10     붉은오름    0   50     50   30\n",
              "11      고근산    0   50     50   50\n",
              "12     거문오름    1   50     50   30\n",
              "13     검은오름    1   46     54   20\n",
              "14     궷물오름    1   54     46   20\n",
              "15      다랑쉬    1   54     46   20\n",
              "16      도두봉    1   48     52   20\n",
              "17  물메(수산봉)    1   53     47   20\n",
              "18      민오름    1   47     53   20\n",
              "19   큰바리메오름    1   64     36   50\n",
              "20     붉은오름    1   50     50   30\n",
              "21     산굼부리    1   54     46   20\n",
              "22     새별오름    1   50     50   20\n",
              "23      서우봉    1   49     51   20\n",
              "24      수월봉    1   55     45   20\n",
              "25    아끈다랑쉬    1   50     50   30\n",
              "26     아부오름    1   44     56   20\n",
              "27     안돌오름    1   58     42   20\n",
              "28    용눈이오름    1   42     58   20\n",
              "29     저지오름    1   56     44   50\n",
              "30     정물오름    1   62     38   40\n",
              "31      지미봉    1   56     44   20"
            ]
          },
          "metadata": {
            "tags": []
          },
          "execution_count": 37
        }
      ]
    },
    {
      "cell_type": "code",
      "metadata": {
        "colab": {
          "base_uri": "https://localhost:8080/",
          "height": 275
        },
        "id": "PtbjmSUrgT3Y",
        "outputId": "79286237-dc47-42bf-fa6d-83d22ea7b1b1"
      },
      "source": [
        "encoded = pd.get_dummies(df)\r\n",
        "encoded.head()"
      ],
      "execution_count": 38,
      "outputs": [
        {
          "output_type": "execute_result",
          "data": {
            "text/html": [
              "<div>\n",
              "<style scoped>\n",
              "    .dataframe tbody tr th:only-of-type {\n",
              "        vertical-align: middle;\n",
              "    }\n",
              "\n",
              "    .dataframe tbody tr th {\n",
              "        vertical-align: top;\n",
              "    }\n",
              "\n",
              "    .dataframe thead th {\n",
              "        text-align: right;\n",
              "    }\n",
              "</style>\n",
              "<table border=\"1\" class=\"dataframe\">\n",
              "  <thead>\n",
              "    <tr style=\"text-align: right;\">\n",
              "      <th></th>\n",
              "      <th>loc</th>\n",
              "      <th>men</th>\n",
              "      <th>women</th>\n",
              "      <th>age</th>\n",
              "      <th>name_거문오름</th>\n",
              "      <th>name_검은오름</th>\n",
              "      <th>name_고근산</th>\n",
              "      <th>name_군산</th>\n",
              "      <th>name_궷물오름</th>\n",
              "      <th>name_다랑쉬</th>\n",
              "      <th>name_도두봉</th>\n",
              "      <th>name_따라비오름</th>\n",
              "      <th>name_머체왓숲길</th>\n",
              "      <th>name_물메(수산봉)</th>\n",
              "      <th>name_물영아리</th>\n",
              "      <th>name_민오름</th>\n",
              "      <th>name_백약이오름</th>\n",
              "      <th>name_붉은오름</th>\n",
              "      <th>name_산굼부리</th>\n",
              "      <th>name_새별오름</th>\n",
              "      <th>name_서우봉</th>\n",
              "      <th>name_성산일출봉</th>\n",
              "      <th>name_송악산</th>\n",
              "      <th>name_수월봉</th>\n",
              "      <th>name_아끈다랑쉬</th>\n",
              "      <th>name_아부오름</th>\n",
              "      <th>name_안돌오름</th>\n",
              "      <th>name_영주산</th>\n",
              "      <th>name_용눈이오름</th>\n",
              "      <th>name_용머리</th>\n",
              "      <th>name_이승이</th>\n",
              "      <th>name_저지오름</th>\n",
              "      <th>name_정물오름</th>\n",
              "      <th>name_지미봉</th>\n",
              "      <th>name_큰바리메오름</th>\n",
              "    </tr>\n",
              "  </thead>\n",
              "  <tbody>\n",
              "    <tr>\n",
              "      <th>0</th>\n",
              "      <td>0</td>\n",
              "      <td>56</td>\n",
              "      <td>44</td>\n",
              "      <td>30</td>\n",
              "      <td>0</td>\n",
              "      <td>0</td>\n",
              "      <td>0</td>\n",
              "      <td>0</td>\n",
              "      <td>0</td>\n",
              "      <td>0</td>\n",
              "      <td>0</td>\n",
              "      <td>0</td>\n",
              "      <td>0</td>\n",
              "      <td>0</td>\n",
              "      <td>0</td>\n",
              "      <td>0</td>\n",
              "      <td>0</td>\n",
              "      <td>0</td>\n",
              "      <td>0</td>\n",
              "      <td>0</td>\n",
              "      <td>0</td>\n",
              "      <td>0</td>\n",
              "      <td>1</td>\n",
              "      <td>0</td>\n",
              "      <td>0</td>\n",
              "      <td>0</td>\n",
              "      <td>0</td>\n",
              "      <td>0</td>\n",
              "      <td>0</td>\n",
              "      <td>0</td>\n",
              "      <td>0</td>\n",
              "      <td>0</td>\n",
              "      <td>0</td>\n",
              "      <td>0</td>\n",
              "      <td>0</td>\n",
              "    </tr>\n",
              "    <tr>\n",
              "      <th>1</th>\n",
              "      <td>0</td>\n",
              "      <td>54</td>\n",
              "      <td>46</td>\n",
              "      <td>20</td>\n",
              "      <td>0</td>\n",
              "      <td>0</td>\n",
              "      <td>0</td>\n",
              "      <td>0</td>\n",
              "      <td>0</td>\n",
              "      <td>0</td>\n",
              "      <td>0</td>\n",
              "      <td>0</td>\n",
              "      <td>0</td>\n",
              "      <td>0</td>\n",
              "      <td>1</td>\n",
              "      <td>0</td>\n",
              "      <td>0</td>\n",
              "      <td>0</td>\n",
              "      <td>0</td>\n",
              "      <td>0</td>\n",
              "      <td>0</td>\n",
              "      <td>0</td>\n",
              "      <td>0</td>\n",
              "      <td>0</td>\n",
              "      <td>0</td>\n",
              "      <td>0</td>\n",
              "      <td>0</td>\n",
              "      <td>0</td>\n",
              "      <td>0</td>\n",
              "      <td>0</td>\n",
              "      <td>0</td>\n",
              "      <td>0</td>\n",
              "      <td>0</td>\n",
              "      <td>0</td>\n",
              "      <td>0</td>\n",
              "    </tr>\n",
              "    <tr>\n",
              "      <th>2</th>\n",
              "      <td>0</td>\n",
              "      <td>61</td>\n",
              "      <td>39</td>\n",
              "      <td>30</td>\n",
              "      <td>0</td>\n",
              "      <td>0</td>\n",
              "      <td>0</td>\n",
              "      <td>0</td>\n",
              "      <td>0</td>\n",
              "      <td>0</td>\n",
              "      <td>0</td>\n",
              "      <td>0</td>\n",
              "      <td>0</td>\n",
              "      <td>0</td>\n",
              "      <td>0</td>\n",
              "      <td>0</td>\n",
              "      <td>0</td>\n",
              "      <td>0</td>\n",
              "      <td>0</td>\n",
              "      <td>0</td>\n",
              "      <td>0</td>\n",
              "      <td>0</td>\n",
              "      <td>0</td>\n",
              "      <td>0</td>\n",
              "      <td>0</td>\n",
              "      <td>0</td>\n",
              "      <td>0</td>\n",
              "      <td>0</td>\n",
              "      <td>0</td>\n",
              "      <td>0</td>\n",
              "      <td>1</td>\n",
              "      <td>0</td>\n",
              "      <td>0</td>\n",
              "      <td>0</td>\n",
              "      <td>0</td>\n",
              "    </tr>\n",
              "    <tr>\n",
              "      <th>3</th>\n",
              "      <td>0</td>\n",
              "      <td>47</td>\n",
              "      <td>53</td>\n",
              "      <td>50</td>\n",
              "      <td>0</td>\n",
              "      <td>0</td>\n",
              "      <td>0</td>\n",
              "      <td>0</td>\n",
              "      <td>0</td>\n",
              "      <td>0</td>\n",
              "      <td>0</td>\n",
              "      <td>0</td>\n",
              "      <td>1</td>\n",
              "      <td>0</td>\n",
              "      <td>0</td>\n",
              "      <td>0</td>\n",
              "      <td>0</td>\n",
              "      <td>0</td>\n",
              "      <td>0</td>\n",
              "      <td>0</td>\n",
              "      <td>0</td>\n",
              "      <td>0</td>\n",
              "      <td>0</td>\n",
              "      <td>0</td>\n",
              "      <td>0</td>\n",
              "      <td>0</td>\n",
              "      <td>0</td>\n",
              "      <td>0</td>\n",
              "      <td>0</td>\n",
              "      <td>0</td>\n",
              "      <td>0</td>\n",
              "      <td>0</td>\n",
              "      <td>0</td>\n",
              "      <td>0</td>\n",
              "      <td>0</td>\n",
              "    </tr>\n",
              "    <tr>\n",
              "      <th>4</th>\n",
              "      <td>0</td>\n",
              "      <td>63</td>\n",
              "      <td>37</td>\n",
              "      <td>20</td>\n",
              "      <td>0</td>\n",
              "      <td>0</td>\n",
              "      <td>0</td>\n",
              "      <td>0</td>\n",
              "      <td>0</td>\n",
              "      <td>0</td>\n",
              "      <td>0</td>\n",
              "      <td>0</td>\n",
              "      <td>0</td>\n",
              "      <td>0</td>\n",
              "      <td>0</td>\n",
              "      <td>0</td>\n",
              "      <td>0</td>\n",
              "      <td>0</td>\n",
              "      <td>0</td>\n",
              "      <td>0</td>\n",
              "      <td>0</td>\n",
              "      <td>1</td>\n",
              "      <td>0</td>\n",
              "      <td>0</td>\n",
              "      <td>0</td>\n",
              "      <td>0</td>\n",
              "      <td>0</td>\n",
              "      <td>0</td>\n",
              "      <td>0</td>\n",
              "      <td>0</td>\n",
              "      <td>0</td>\n",
              "      <td>0</td>\n",
              "      <td>0</td>\n",
              "      <td>0</td>\n",
              "      <td>0</td>\n",
              "    </tr>\n",
              "  </tbody>\n",
              "</table>\n",
              "</div>"
            ],
            "text/plain": [
              "   loc  men  women  age  ...  name_저지오름  name_정물오름  name_지미봉  name_큰바리메오름\n",
              "0    0   56     44   30  ...          0          0         0            0\n",
              "1    0   54     46   20  ...          0          0         0            0\n",
              "2    0   61     39   30  ...          0          0         0            0\n",
              "3    0   47     53   50  ...          0          0         0            0\n",
              "4    0   63     37   20  ...          0          0         0            0\n",
              "\n",
              "[5 rows x 35 columns]"
            ]
          },
          "metadata": {
            "tags": []
          },
          "execution_count": 38
        }
      ]
    },
    {
      "cell_type": "code",
      "metadata": {
        "colab": {
          "base_uri": "https://localhost:8080/"
        },
        "id": "1RC-8GbSgoG_",
        "outputId": "e0a9dfbf-d7eb-4a35-d634-2a17f6dd1ab8"
      },
      "source": [
        "print(encoded.columns)"
      ],
      "execution_count": 39,
      "outputs": [
        {
          "output_type": "stream",
          "text": [
            "Index(['loc', 'men', 'women', 'age', 'name_거문오름', 'name_검은오름', 'name_고근산',\n",
            "       'name_군산', 'name_궷물오름', 'name_다랑쉬', 'name_도두봉', 'name_따라비오름',\n",
            "       'name_머체왓숲길', 'name_물메(수산봉)', 'name_물영아리', 'name_민오름', 'name_백약이오름',\n",
            "       'name_붉은오름', 'name_산굼부리', 'name_새별오름', 'name_서우봉', 'name_성산일출봉',\n",
            "       'name_송악산', 'name_수월봉', 'name_아끈다랑쉬', 'name_아부오름', 'name_안돌오름',\n",
            "       'name_영주산', 'name_용눈이오름', 'name_용머리', 'name_이승이', 'name_저지오름',\n",
            "       'name_정물오름', 'name_지미봉', 'name_큰바리메오름'],\n",
            "      dtype='object')\n"
          ],
          "name": "stdout"
        }
      ]
    },
    {
      "cell_type": "code",
      "metadata": {
        "id": "Gqb42hiChQu1"
      },
      "source": [
        "독립 = encoded[['loc', 'men', 'women', 'age']]\r\n",
        "종속 = encoded[['name_거문오름', 'name_검은오름', 'name_고근산',\r\n",
        "       'name_군산', 'name_궷물오름', 'name_다랑쉬', 'name_도두봉', 'name_따라비오름',\r\n",
        "       'name_머체왓숲길', 'name_물메(수산봉)', 'name_물영아리', 'name_민오름', 'name_백약이오름',\r\n",
        "       'name_붉은오름', 'name_산굼부리', 'name_새별오름', 'name_서우봉', 'name_성산일출봉',\r\n",
        "       'name_송악산', 'name_수월봉', 'name_아끈다랑쉬', 'name_아부오름', 'name_안돌오름',\r\n",
        "       'name_영주산', 'name_용눈이오름', 'name_용머리', 'name_이승이', 'name_저지오름',\r\n",
        "       'name_정물오름', 'name_지미봉', 'name_큰바리메오름']]"
      ],
      "execution_count": 40,
      "outputs": []
    },
    {
      "cell_type": "code",
      "metadata": {
        "colab": {
          "base_uri": "https://localhost:8080/"
        },
        "id": "NFYIvRyMheR5",
        "outputId": "8e81299d-b58a-4e69-c735-716d50c1d5a9"
      },
      "source": [
        "독립.shape, 종속.shape"
      ],
      "execution_count": 41,
      "outputs": [
        {
          "output_type": "execute_result",
          "data": {
            "text/plain": [
              "((32, 4), (32, 31))"
            ]
          },
          "metadata": {
            "tags": []
          },
          "execution_count": 41
        }
      ]
    },
    {
      "cell_type": "code",
      "metadata": {
        "id": "0IUCXCt8hki_"
      },
      "source": [
        "## 모델 준비\r\n",
        "\r\n",
        "X = tf.keras.layers.Input(shape=[4]) # 독립변수의 col\r\n",
        "Y = tf.keras.layers.Dense(31, activation='softmax')(X) # 종속변수의 col\r\n",
        "model = tf.keras.models.Model(X, Y)\r\n",
        "model.compile(loss='categorical_crossentropy', metrics='accuracy')"
      ],
      "execution_count": 42,
      "outputs": []
    },
    {
      "cell_type": "code",
      "metadata": {
        "colab": {
          "base_uri": "https://localhost:8080/"
        },
        "id": "KRDuiU-9hyGf",
        "outputId": "d954c56e-a1f4-4b8d-a3c1-639f375546d7"
      },
      "source": [
        "## 모델 학습\r\n",
        "model.fit(독립, 종속, epochs=100000, verbose=0) # epochs는 학습 수\r\n",
        "model.fit(독립, 종속, epochs=10) # epochs는 학습 수"
      ],
      "execution_count": 43,
      "outputs": [
        {
          "output_type": "stream",
          "text": [
            "Epoch 1/10\n",
            "1/1 [==============================] - 0s 4ms/step - loss: 0.3130 - accuracy: 0.8438\n",
            "Epoch 2/10\n",
            "1/1 [==============================] - 0s 7ms/step - loss: 0.3130 - accuracy: 0.8438\n",
            "Epoch 3/10\n",
            "1/1 [==============================] - 0s 4ms/step - loss: 0.3131 - accuracy: 0.8438\n",
            "Epoch 4/10\n",
            "1/1 [==============================] - 0s 4ms/step - loss: 0.3132 - accuracy: 0.8438\n",
            "Epoch 5/10\n",
            "1/1 [==============================] - 0s 4ms/step - loss: 0.3132 - accuracy: 0.8438\n",
            "Epoch 6/10\n",
            "1/1 [==============================] - 0s 4ms/step - loss: 0.3131 - accuracy: 0.8438\n",
            "Epoch 7/10\n",
            "1/1 [==============================] - 0s 3ms/step - loss: 0.3130 - accuracy: 0.8438\n",
            "Epoch 8/10\n",
            "1/1 [==============================] - 0s 4ms/step - loss: 0.3130 - accuracy: 0.8438\n",
            "Epoch 9/10\n",
            "1/1 [==============================] - 0s 3ms/step - loss: 0.3129 - accuracy: 0.8438\n",
            "Epoch 10/10\n",
            "1/1 [==============================] - 0s 4ms/step - loss: 0.3130 - accuracy: 0.8438\n"
          ],
          "name": "stdout"
        },
        {
          "output_type": "execute_result",
          "data": {
            "text/plain": [
              "<tensorflow.python.keras.callbacks.History at 0x7f398b394320>"
            ]
          },
          "metadata": {
            "tags": []
          },
          "execution_count": 43
        }
      ]
    },
    {
      "cell_type": "code",
      "metadata": {
        "colab": {
          "base_uri": "https://localhost:8080/"
        },
        "id": "pH9Pqq9Yh4L7",
        "outputId": "19c62dc2-c230-4e89-e50c-33e2146b63c2"
      },
      "source": [
        "model.predict([[0, 56, 44, 30]])"
      ],
      "execution_count": 44,
      "outputs": [
        {
          "output_type": "stream",
          "text": [
            "WARNING:tensorflow:5 out of the last 15 calls to <function Model.make_predict_function.<locals>.predict_function at 0x7f398b383620> triggered tf.function retracing. Tracing is expensive and the excessive number of tracings could be due to (1) creating @tf.function repeatedly in a loop, (2) passing tensors with different shapes, (3) passing Python objects instead of tensors. For (1), please define your @tf.function outside of the loop. For (2), @tf.function has experimental_relax_shapes=True option that relaxes argument shapes that can avoid unnecessary retracing. For (3), please refer to https://www.tensorflow.org/guide/function#controlling_retracing and https://www.tensorflow.org/api_docs/python/tf/function for  more details.\n"
          ],
          "name": "stdout"
        },
        {
          "output_type": "execute_result",
          "data": {
            "text/plain": [
              "array([[2.26821353e-08, 0.00000000e+00, 6.75464242e-13, 4.95504802e-34,\n",
              "        9.11440875e-05, 9.27028232e-05, 2.62336657e-27, 5.32247066e-01,\n",
              "        0.00000000e+00, 1.20902821e-09, 9.22725119e-10, 0.00000000e+00,\n",
              "        0.00000000e+00, 2.93632562e-04, 6.71684684e-05, 5.38215848e-13,\n",
              "        4.55157166e-19, 4.09642424e-34, 4.66907024e-01, 1.96813693e-04,\n",
              "        2.05273576e-08, 0.00000000e+00, 2.77683381e-22, 0.00000000e+00,\n",
              "        0.00000000e+00, 5.63797009e-09, 3.14419317e-08, 3.84104073e-15,\n",
              "        1.33087301e-08, 1.04394116e-04, 2.96750420e-37]], dtype=float32)"
            ]
          },
          "metadata": {
            "tags": []
          },
          "execution_count": 44
        }
      ]
    },
    {
      "cell_type": "code",
      "metadata": {
        "colab": {
          "base_uri": "https://localhost:8080/"
        },
        "id": "WrTgYAUllCLd",
        "outputId": "d1ed86c6-93a9-45cc-db22-a983dd790baf"
      },
      "source": [
        "model.predict([[0, 60, 40, 40]])"
      ],
      "execution_count": 47,
      "outputs": [
        {
          "output_type": "execute_result",
          "data": {
            "text/plain": [
              "array([[0.0000000e+00, 0.0000000e+00, 1.1217622e-26, 2.0094495e-15,\n",
              "        0.0000000e+00, 0.0000000e+00, 0.0000000e+00, 5.0221698e-36,\n",
              "        0.0000000e+00, 0.0000000e+00, 0.0000000e+00, 0.0000000e+00,\n",
              "        0.0000000e+00, 0.0000000e+00, 0.0000000e+00, 0.0000000e+00,\n",
              "        0.0000000e+00, 1.1189866e-37, 4.6765006e-36, 6.5454897e-31,\n",
              "        0.0000000e+00, 0.0000000e+00, 2.8011157e-23, 0.0000000e+00,\n",
              "        0.0000000e+00, 9.4089613e-27, 1.9056850e-05, 1.0515195e-14,\n",
              "        9.9998093e-01, 8.1617808e-19, 1.4173987e-08]], dtype=float32)"
            ]
          },
          "metadata": {
            "tags": []
          },
          "execution_count": 47
        }
      ]
    },
    {
      "cell_type": "code",
      "metadata": {
        "colab": {
          "base_uri": "https://localhost:8080/"
        },
        "id": "0O0sAss-hdzn",
        "outputId": "5a2dc5f1-0535-4184-fa62-931cb67111e9"
      },
      "source": [
        "result_predict = model.predict([[0, 60, 40, 50]])[0]\r\n",
        "result_name = ['name_거문오름',\r\n",
        "       'name_검은오름', 'name_고근산', 'name_군산', 'name_궷물오름', 'name_다랑쉬', 'name_도두봉',\r\n",
        "       'name_따라비오름', 'name_물메(수산봉)', 'name_물영아리', 'name_민오름', 'name_백약이오름',\r\n",
        "       'name_붉은오름', 'name_산굼부리', 'name_새별오름', 'name_서우봉', 'name_성산일출봉',\r\n",
        "       'name_송악산', 'name_수월봉', 'name_아끈다랑쉬', 'name_아부오름', 'name_안돌오름',\r\n",
        "       'name_영주산', 'name_용눈이오름', 'name_용머리', 'name_이승이', 'name_저지오름',\r\n",
        "       'name_정물오름', 'name_지미봉', 'name_큰바리메오름']\r\n",
        "\r\n",
        "result = list(zip(result_predict*100, result_name))\r\n",
        "result"
      ],
      "execution_count": 48,
      "outputs": [
        {
          "output_type": "execute_result",
          "data": {
            "text/plain": [
              "[(0.0, 'name_거문오름'),\n",
              " (0.0, 'name_검은오름'),\n",
              " (4.4019e-29, 'name_고근산'),\n",
              " (0.0, 'name_군산'),\n",
              " (0.0, 'name_궷물오름'),\n",
              " (0.0, 'name_다랑쉬'),\n",
              " (0.0, 'name_도두봉'),\n",
              " (0.0, 'name_따라비오름'),\n",
              " (0.0, 'name_물메(수산봉)'),\n",
              " (0.0, 'name_물영아리'),\n",
              " (0.0, 'name_민오름'),\n",
              " (0.0, 'name_백약이오름'),\n",
              " (0.0, 'name_붉은오름'),\n",
              " (0.0, 'name_산굼부리'),\n",
              " (0.0, 'name_새별오름'),\n",
              " (0.0, 'name_서우봉'),\n",
              " (0.0, 'name_성산일출봉'),\n",
              " (0.0, 'name_송악산'),\n",
              " (0.0, 'name_수월봉'),\n",
              " (0.0, 'name_아끈다랑쉬'),\n",
              " (0.0, 'name_아부오름'),\n",
              " (0.0, 'name_안돌오름'),\n",
              " (0.0, 'name_영주산'),\n",
              " (0.0, 'name_용눈이오름'),\n",
              " (0.0, 'name_용머리'),\n",
              " (0.0, 'name_이승이'),\n",
              " (1.1626521e-35, 'name_저지오름'),\n",
              " (6.562089e-14, 'name_정물오름'),\n",
              " (2.8202924e-09, 'name_지미봉'),\n",
              " (0.0, 'name_큰바리메오름')]"
            ]
          },
          "metadata": {
            "tags": []
          },
          "execution_count": 48
        }
      ]
    },
    {
      "cell_type": "code",
      "metadata": {
        "colab": {
          "base_uri": "https://localhost:8080/"
        },
        "id": "0pauOTfgmfRP",
        "outputId": "f995ee84-e739-4a2b-fa6d-7c1bfd601271"
      },
      "source": [
        "def 제곱(x):\r\n",
        "    return x**2\r\n",
        "\r\n",
        "제곱람다 = lambda x:x**2\r\n",
        "제곱람다(10)"
      ],
      "execution_count": 50,
      "outputs": [
        {
          "output_type": "execute_result",
          "data": {
            "text/plain": [
              "100"
            ]
          },
          "metadata": {
            "tags": []
          },
          "execution_count": 50
        }
      ]
    },
    {
      "cell_type": "code",
      "metadata": {
        "id": "eBvbNLrCmyzN"
      },
      "source": [
        "test = [('일하나', 34, 100, 68),\r\n",
        "        ('이하나', 84, 32, 32),\r\n",
        "        ('삼하나', 54, 48, 78),\r\n",
        "        ('사하나', 97, 91, 21),\r\n",
        "        ('오하나', 92, 84, 11)]"
      ],
      "execution_count": 52,
      "outputs": []
    },
    {
      "cell_type": "code",
      "metadata": {
        "colab": {
          "base_uri": "https://localhost:8080/"
        },
        "id": "e_YKVFLHnLLq",
        "outputId": "21a3404f-1853-4daa-a2a2-998527636353"
      },
      "source": [
        "sorted(test, key=lambda x:x[2])"
      ],
      "execution_count": 55,
      "outputs": [
        {
          "output_type": "execute_result",
          "data": {
            "text/plain": [
              "[('이하나', 84, 32, 32),\n",
              " ('삼하나', 54, 48, 78),\n",
              " ('오하나', 92, 84, 11),\n",
              " ('사하나', 97, 91, 21),\n",
              " ('일하나', 34, 100, 68)]"
            ]
          },
          "metadata": {
            "tags": []
          },
          "execution_count": 55
        }
      ]
    },
    {
      "cell_type": "code",
      "metadata": {
        "id": "4Q8e70dtmJME"
      },
      "source": [
        "result = sorted(result, key=lambda x:x[0], reverse=True)"
      ],
      "execution_count": 59,
      "outputs": []
    },
    {
      "cell_type": "code",
      "metadata": {
        "colab": {
          "base_uri": "https://localhost:8080/",
          "height": 34
        },
        "id": "32NqhXmOoNrb",
        "outputId": "4e0944b4-fb98-4c65-8cc2-ddcf1c26d19c"
      },
      "source": [
        "result[0][1][5:]"
      ],
      "execution_count": 58,
      "outputs": [
        {
          "output_type": "execute_result",
          "data": {
            "application/vnd.google.colaboratory.intrinsic+json": {
              "type": "string"
            },
            "text/plain": [
              "'거문오름'"
            ]
          },
          "metadata": {
            "tags": []
          },
          "execution_count": 58
        }
      ]
    },
    {
      "cell_type": "code",
      "metadata": {
        "colab": {
          "base_uri": "https://localhost:8080/"
        },
        "id": "ju0mVQf3oXaQ",
        "outputId": "1fa945e1-281d-4ad2-8fac-6b7777e33a71"
      },
      "source": [
        "추천리스트 = []\r\n",
        "for i in range(5):\r\n",
        "    추천리스트.append(result[i][1][5:])\r\n",
        "\r\n",
        "추천리스트"
      ],
      "execution_count": 61,
      "outputs": [
        {
          "output_type": "execute_result",
          "data": {
            "text/plain": [
              "['지미봉', '정물오름', '고근산', '저지오름', '거문오름']"
            ]
          },
          "metadata": {
            "tags": []
          },
          "execution_count": 61
        }
      ]
    },
    {
      "cell_type": "code",
      "metadata": {
        "colab": {
          "base_uri": "https://localhost:8080/"
        },
        "id": "Ktd5gR9wo6Ax",
        "outputId": "82e9f649-5e72-427e-86e5-792d48532b54"
      },
      "source": [
        "result"
      ],
      "execution_count": 62,
      "outputs": [
        {
          "output_type": "execute_result",
          "data": {
            "text/plain": [
              "[(2.8202924e-09, 'name_지미봉'),\n",
              " (6.562089e-14, 'name_정물오름'),\n",
              " (4.4019e-29, 'name_고근산'),\n",
              " (1.1626521e-35, 'name_저지오름'),\n",
              " (0.0, 'name_거문오름'),\n",
              " (0.0, 'name_검은오름'),\n",
              " (0.0, 'name_군산'),\n",
              " (0.0, 'name_궷물오름'),\n",
              " (0.0, 'name_다랑쉬'),\n",
              " (0.0, 'name_도두봉'),\n",
              " (0.0, 'name_따라비오름'),\n",
              " (0.0, 'name_물메(수산봉)'),\n",
              " (0.0, 'name_물영아리'),\n",
              " (0.0, 'name_민오름'),\n",
              " (0.0, 'name_백약이오름'),\n",
              " (0.0, 'name_붉은오름'),\n",
              " (0.0, 'name_산굼부리'),\n",
              " (0.0, 'name_새별오름'),\n",
              " (0.0, 'name_서우봉'),\n",
              " (0.0, 'name_성산일출봉'),\n",
              " (0.0, 'name_송악산'),\n",
              " (0.0, 'name_수월봉'),\n",
              " (0.0, 'name_아끈다랑쉬'),\n",
              " (0.0, 'name_아부오름'),\n",
              " (0.0, 'name_안돌오름'),\n",
              " (0.0, 'name_영주산'),\n",
              " (0.0, 'name_용눈이오름'),\n",
              " (0.0, 'name_용머리'),\n",
              " (0.0, 'name_이승이'),\n",
              " (0.0, 'name_큰바리메오름')]"
            ]
          },
          "metadata": {
            "tags": []
          },
          "execution_count": 62
        }
      ]
    }
  ]
}